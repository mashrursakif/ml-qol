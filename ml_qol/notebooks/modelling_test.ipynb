{
 "cells": [
  {
   "cell_type": "markdown",
   "id": "e2a8979f",
   "metadata": {},
   "source": [
    "# Tests"
   ]
  },
  {
   "cell_type": "code",
   "execution_count": 2,
   "id": "820d876b",
   "metadata": {},
   "outputs": [],
   "source": [
    "import pandas as pd\n",
    "from sklearn.model_selection import train_test_split\n",
    "from sklearn.metrics import mean_absolute_error, mean_squared_error\n",
    "import numpy as np\n",
    "import os\n",
    "import warnings\n",
    "import matplotlib.pyplot as plt\n",
    "import seaborn as sns"
   ]
  },
  {
   "cell_type": "code",
   "execution_count": 3,
   "id": "844d29b8",
   "metadata": {},
   "outputs": [],
   "source": [
    "from sklearn.datasets import fetch_california_housing\n",
    "\n",
    "data = fetch_california_housing(as_frame=True)"
   ]
  },
  {
   "cell_type": "code",
   "execution_count": 4,
   "id": "b1b32eaa",
   "metadata": {},
   "outputs": [
    {
     "data": {
      "text/html": [
       "<div>\n",
       "<style scoped>\n",
       "    .dataframe tbody tr th:only-of-type {\n",
       "        vertical-align: middle;\n",
       "    }\n",
       "\n",
       "    .dataframe tbody tr th {\n",
       "        vertical-align: top;\n",
       "    }\n",
       "\n",
       "    .dataframe thead th {\n",
       "        text-align: right;\n",
       "    }\n",
       "</style>\n",
       "<table border=\"1\" class=\"dataframe\">\n",
       "  <thead>\n",
       "    <tr style=\"text-align: right;\">\n",
       "      <th></th>\n",
       "      <th>MedInc</th>\n",
       "      <th>HouseAge</th>\n",
       "      <th>AveRooms</th>\n",
       "      <th>AveBedrms</th>\n",
       "      <th>Population</th>\n",
       "      <th>AveOccup</th>\n",
       "      <th>Latitude</th>\n",
       "      <th>Longitude</th>\n",
       "      <th>target</th>\n",
       "    </tr>\n",
       "  </thead>\n",
       "  <tbody>\n",
       "    <tr>\n",
       "      <th>0</th>\n",
       "      <td>8.3252</td>\n",
       "      <td>41.0</td>\n",
       "      <td>6.984127</td>\n",
       "      <td>1.023810</td>\n",
       "      <td>322.0</td>\n",
       "      <td>2.555556</td>\n",
       "      <td>37.88</td>\n",
       "      <td>-122.23</td>\n",
       "      <td>4.526</td>\n",
       "    </tr>\n",
       "    <tr>\n",
       "      <th>1</th>\n",
       "      <td>8.3014</td>\n",
       "      <td>21.0</td>\n",
       "      <td>6.238137</td>\n",
       "      <td>0.971880</td>\n",
       "      <td>2401.0</td>\n",
       "      <td>2.109842</td>\n",
       "      <td>37.86</td>\n",
       "      <td>-122.22</td>\n",
       "      <td>3.585</td>\n",
       "    </tr>\n",
       "    <tr>\n",
       "      <th>2</th>\n",
       "      <td>7.2574</td>\n",
       "      <td>52.0</td>\n",
       "      <td>8.288136</td>\n",
       "      <td>1.073446</td>\n",
       "      <td>496.0</td>\n",
       "      <td>2.802260</td>\n",
       "      <td>37.85</td>\n",
       "      <td>-122.24</td>\n",
       "      <td>3.521</td>\n",
       "    </tr>\n",
       "    <tr>\n",
       "      <th>3</th>\n",
       "      <td>5.6431</td>\n",
       "      <td>52.0</td>\n",
       "      <td>5.817352</td>\n",
       "      <td>1.073059</td>\n",
       "      <td>558.0</td>\n",
       "      <td>2.547945</td>\n",
       "      <td>37.85</td>\n",
       "      <td>-122.25</td>\n",
       "      <td>3.413</td>\n",
       "    </tr>\n",
       "    <tr>\n",
       "      <th>4</th>\n",
       "      <td>3.8462</td>\n",
       "      <td>52.0</td>\n",
       "      <td>6.281853</td>\n",
       "      <td>1.081081</td>\n",
       "      <td>565.0</td>\n",
       "      <td>2.181467</td>\n",
       "      <td>37.85</td>\n",
       "      <td>-122.25</td>\n",
       "      <td>3.422</td>\n",
       "    </tr>\n",
       "    <tr>\n",
       "      <th>...</th>\n",
       "      <td>...</td>\n",
       "      <td>...</td>\n",
       "      <td>...</td>\n",
       "      <td>...</td>\n",
       "      <td>...</td>\n",
       "      <td>...</td>\n",
       "      <td>...</td>\n",
       "      <td>...</td>\n",
       "      <td>...</td>\n",
       "    </tr>\n",
       "    <tr>\n",
       "      <th>20635</th>\n",
       "      <td>1.5603</td>\n",
       "      <td>25.0</td>\n",
       "      <td>5.045455</td>\n",
       "      <td>1.133333</td>\n",
       "      <td>845.0</td>\n",
       "      <td>2.560606</td>\n",
       "      <td>39.48</td>\n",
       "      <td>-121.09</td>\n",
       "      <td>0.781</td>\n",
       "    </tr>\n",
       "    <tr>\n",
       "      <th>20636</th>\n",
       "      <td>2.5568</td>\n",
       "      <td>18.0</td>\n",
       "      <td>6.114035</td>\n",
       "      <td>1.315789</td>\n",
       "      <td>356.0</td>\n",
       "      <td>3.122807</td>\n",
       "      <td>39.49</td>\n",
       "      <td>-121.21</td>\n",
       "      <td>0.771</td>\n",
       "    </tr>\n",
       "    <tr>\n",
       "      <th>20637</th>\n",
       "      <td>1.7000</td>\n",
       "      <td>17.0</td>\n",
       "      <td>5.205543</td>\n",
       "      <td>1.120092</td>\n",
       "      <td>1007.0</td>\n",
       "      <td>2.325635</td>\n",
       "      <td>39.43</td>\n",
       "      <td>-121.22</td>\n",
       "      <td>0.923</td>\n",
       "    </tr>\n",
       "    <tr>\n",
       "      <th>20638</th>\n",
       "      <td>1.8672</td>\n",
       "      <td>18.0</td>\n",
       "      <td>5.329513</td>\n",
       "      <td>1.171920</td>\n",
       "      <td>741.0</td>\n",
       "      <td>2.123209</td>\n",
       "      <td>39.43</td>\n",
       "      <td>-121.32</td>\n",
       "      <td>0.847</td>\n",
       "    </tr>\n",
       "    <tr>\n",
       "      <th>20639</th>\n",
       "      <td>2.3886</td>\n",
       "      <td>16.0</td>\n",
       "      <td>5.254717</td>\n",
       "      <td>1.162264</td>\n",
       "      <td>1387.0</td>\n",
       "      <td>2.616981</td>\n",
       "      <td>39.37</td>\n",
       "      <td>-121.24</td>\n",
       "      <td>0.894</td>\n",
       "    </tr>\n",
       "  </tbody>\n",
       "</table>\n",
       "<p>20640 rows × 9 columns</p>\n",
       "</div>"
      ],
      "text/plain": [
       "       MedInc  HouseAge  AveRooms  AveBedrms  Population  AveOccup  Latitude  \\\n",
       "0      8.3252      41.0  6.984127   1.023810       322.0  2.555556     37.88   \n",
       "1      8.3014      21.0  6.238137   0.971880      2401.0  2.109842     37.86   \n",
       "2      7.2574      52.0  8.288136   1.073446       496.0  2.802260     37.85   \n",
       "3      5.6431      52.0  5.817352   1.073059       558.0  2.547945     37.85   \n",
       "4      3.8462      52.0  6.281853   1.081081       565.0  2.181467     37.85   \n",
       "...       ...       ...       ...        ...         ...       ...       ...   \n",
       "20635  1.5603      25.0  5.045455   1.133333       845.0  2.560606     39.48   \n",
       "20636  2.5568      18.0  6.114035   1.315789       356.0  3.122807     39.49   \n",
       "20637  1.7000      17.0  5.205543   1.120092      1007.0  2.325635     39.43   \n",
       "20638  1.8672      18.0  5.329513   1.171920       741.0  2.123209     39.43   \n",
       "20639  2.3886      16.0  5.254717   1.162264      1387.0  2.616981     39.37   \n",
       "\n",
       "       Longitude  target  \n",
       "0        -122.23   4.526  \n",
       "1        -122.22   3.585  \n",
       "2        -122.24   3.521  \n",
       "3        -122.25   3.413  \n",
       "4        -122.25   3.422  \n",
       "...          ...     ...  \n",
       "20635    -121.09   0.781  \n",
       "20636    -121.21   0.771  \n",
       "20637    -121.22   0.923  \n",
       "20638    -121.32   0.847  \n",
       "20639    -121.24   0.894  \n",
       "\n",
       "[20640 rows x 9 columns]"
      ]
     },
     "execution_count": 4,
     "metadata": {},
     "output_type": "execute_result"
    }
   ],
   "source": [
    "df = pd.concat([data.data, data.target.rename(\"target\")], axis=1)\n",
    "df"
   ]
  },
  {
   "cell_type": "code",
   "execution_count": 5,
   "id": "38713b44",
   "metadata": {},
   "outputs": [],
   "source": [
    "# from lightgbm import LGBMClassifier, LGBMRegressor\n",
    "\n",
    "# LGBMRegressor()"
   ]
  },
  {
   "cell_type": "markdown",
   "id": "a0145b01",
   "metadata": {},
   "source": [
    "# Modelling"
   ]
  },
  {
   "cell_type": "code",
   "execution_count": 6,
   "id": "43d47765",
   "metadata": {},
   "outputs": [],
   "source": [
    "from catboost import CatBoostRegressor, CatBoostClassifier, Pool\n",
    "from lightgbm import LGBMClassifier, LGBMRegressor\n",
    "import lightgbm as lgb\n",
    "# import xgboost as xgb\n",
    "\n",
    "all_models = {\n",
    "  'catboost': {\n",
    "\t\t'regression': CatBoostRegressor,\n",
    "\t\t'classification': CatBoostClassifier,\n",
    "\t},\n",
    "\t'lightgbm': {\n",
    "   \t'regression': LGBMRegressor,\n",
    "\t\t'classification': LGBMClassifier,\n",
    "\t}\n",
    "}\n"
   ]
  },
  {
   "cell_type": "code",
   "execution_count": 7,
   "id": "95da3d20",
   "metadata": {},
   "outputs": [],
   "source": [
    "\n",
    "cb_params = {\n",
    "    'iterations': 5000,\n",
    "    'learning_rate': 1e-2,\n",
    "    'loss_function': 'RMSE',\n",
    "    # 'eval_metric': 'AUC',\n",
    "    # 'depth': 2,\n",
    "    # 'l2_leaf_reg': 5,\n",
    "    'bagging_temperature': 3,\n",
    "    'random_strength': 0.005,\n",
    "    'border_count': 64,\n",
    "    'od_type': 'IncToDec',\n",
    "    'verbose': 100,\n",
    "    'subsample': 1.0,\n",
    "    # 'random_seed': 42,\n",
    "    'early_stopping_rounds': 1000,\n",
    "    'task_type': 'CPU',\n",
    "}\n",
    "\n",
    "\n",
    "\n",
    "lgbm_params = {\n",
    "    'objective': 'regression',\n",
    "    'metric': 'rmse',\n",
    "    'boosting_type': 'gbdt',\n",
    "    'num_boost_round': 1000,\n",
    "    'learning_rate': 1e-2,\n",
    "    'num_leaves': 63,\n",
    "    # 'max_depth': 2,\n",
    "    'verbose': -1,\n",
    "    'seed': 42,\n",
    "    'device_type': 'cpu'\n",
    "}\n"
   ]
  },
  {
   "cell_type": "code",
   "execution_count": null,
   "id": "20948278",
   "metadata": {},
   "outputs": [
    {
     "name": "stderr",
     "output_type": "stream",
     "text": [
      "/tmp/ipykernel_11122/724572069.py:45: UserWarning: Parameter early_stopping_rounds not recognized, and will be ignored\n",
      "  warnings.warn(f\"Parameter {key} not recognized, and will be ignored\")\n"
     ]
    },
    {
     "data": {
      "text/plain": [
       "{'iterations': 5000,\n",
       " 'learning_rate': 0.01,\n",
       " 'loss_function': 'RMSE',\n",
       " 'subsample': 1.0,\n",
       " 'task_type': 'CPU'}"
      ]
     },
     "execution_count": 10,
     "metadata": {},
     "output_type": "execute_result"
    }
   ],
   "source": [
    "param_map = {\n",
    "\t'catboost': {\n",
    "\t\t'depth': 'depth',\n",
    "\t\t'learning_rate': 'learning_rate',\n",
    "\t\t'iterations': 'iterations',\n",
    "\t\t'loss_function': 'loss_function',\n",
    "\t\t'metric': 'eval_metric',\n",
    "\t\t'reg_2': 'l2_leaf_reg',\n",
    "  \t# 'border_count': 'border_count',\n",
    "   \t'subsample': 'subsample',\n",
    "\t\t'device': 'task_type',\n",
    "\t\t'seed': 'random_seed',\n",
    "\t},\n",
    "\t'lightgbm': {\n",
    "\t\t'depth': 'max_depth',\n",
    "\t\t'learning_rate': 'learning_rate',\n",
    "\t\t'iterations': 'num_iterations',\n",
    "\t\t'loss_function': 'objective',\n",
    "\t\t'metric': 'metric',\n",
    "\t\t'reg_2': 'lambda_l2',\n",
    "  \t# 'border_count': 'max_bin',\n",
    "   \t'subsample': 'bagging_fraction',\n",
    "\t\t'device': 'device',\n",
    "\t\t'seed': 'seed',\n",
    "\t}\n",
    "}\n",
    "\n",
    "model_type = 'catboost'\n",
    "\n",
    "model_param_map = param_map[model_type]\n",
    "user_params = {\n",
    "    'iterations': 5000,\n",
    "    'learning_rate': 1e-2,\n",
    "    'loss_function': 'RMSE',\n",
    "    'subsample': 1.0,\n",
    "    # 'random_seed': 42,\n",
    "    'early_stopping_rounds': 1000,\n",
    "    'device': 'CPU',\n",
    "}\n",
    "mapped_params = {}\n",
    "for key, value in user_params.items():\n",
    "  mapped_key = model_param_map.get(key)\n",
    "  if mapped_key:\n",
    "    mapped_params[mapped_key] = value\n",
    "  else:\n",
    "  \twarnings.warn(f\"Parameter {key} not recognized, and will be ignored\")\n",
    "   \n",
    "mapped_params  "
   ]
  },
  {
   "cell_type": "code",
   "execution_count": 11,
   "id": "7f966cee",
   "metadata": {},
   "outputs": [],
   "source": [
    "def map_params(model_type, user_params):\n",
    "  model_param_map = param_map[model_type]\n",
    "  \n",
    "  mapped_params = {}\n",
    "  for key, value in user_params.items():\n",
    "    mapped_key = model_param_map.get(key)\n",
    "    if mapped_key:\n",
    "      mapped_params[mapped_key] = value\n",
    "    else:\n",
    "      warnings.warn(f\"Parameter {key} not recognized, and will be ignored\")\n",
    "   \n",
    "  return mapped_params"
   ]
  },
  {
   "cell_type": "code",
   "execution_count": 13,
   "id": "5650a29d",
   "metadata": {},
   "outputs": [],
   "source": [
    "default_params = {\n",
    "\t'iterations': 1000,\n",
    "\t'learning_rate': 1e-2,\n",
    "\t'loss_function': 'RMSE',\n",
    "\t'device': 'CPU',\n",
    "}"
   ]
  },
  {
   "cell_type": "code",
   "execution_count": 27,
   "id": "2780e770",
   "metadata": {},
   "outputs": [],
   "source": [
    "def get_model(model_type='catboost', task='regression', params=default_params):\n",
    "  model_category = all_models.get(model_type)\n",
    "  if model_category is None:\n",
    "    raise ValueError(f\"Model: {model_type} is not recognized, use one of following: {', '.join(param_map.keys())}\")\n",
    "  \n",
    "  model_instance = model_category.get(task)\n",
    "  if model_instance is None:\n",
    "    raise ValueError(f\"Model: {model_type} is not recognized, use one of following: {', '.join(model_category.keys())}\")\n",
    "  \n",
    "  mapped_params = map_params(model_type, params)\n",
    "  \n",
    "  if model_type == 'lightgbm':\n",
    "    # Remove Info Logs for LGBM\n",
    "    mapped_params = { **mapped_params, 'verbosity': -1 }\n",
    "  \n",
    "  model = model_instance(**mapped_params)\n",
    "  \n",
    "  return model"
   ]
  },
  {
   "cell_type": "markdown",
   "id": "1b26bcf7",
   "metadata": {},
   "source": [
    "__Model Wrapper for Util functions__"
   ]
  },
  {
   "cell_type": "code",
   "execution_count": 28,
   "id": "c49ad357",
   "metadata": {},
   "outputs": [],
   "source": [
    "class ModelWrapper:\n",
    "  def __init__(self, model, model_type, task, X_valid, y_valid):\n",
    "    self.model = model\n",
    "    self.model_type = model_type\n",
    "    self.X_valid = X_valid\n",
    "    self.y_valid = y_valid\n",
    "  \n",
    "  def plot_importance(self, max_num_features=20, figsize=(10, 6)):\n",
    "    if self.model_type == 'catboost': importance = self.model.get_feature_importance()\n",
    "    elif self.model_type == 'lightgbm': importance = self.model.feature_importances_\n",
    "    \n",
    "    feature_names = self.X_valid.columns.tolist()\n",
    "    \n",
    "    importance_df = pd.DataFrame({\n",
    "      'feature': feature_names,\n",
    "\t\t\t'importance': importance\n",
    "\t\t}).sort_values(by='importance', ascending=True)\n",
    "    \n",
    "    importance_df = importance_df.head(max_num_features)\n",
    "    \n",
    "    plt.figure(figsize=figsize)\n",
    "    plt.barh(importance_df['feature'], importance_df['importance'])\n",
    "    plt.xlabel('Importance')\n",
    "    plt.title('Feature Importance')\n",
    "    plt.show()\n",
    "  \n",
    "  def __getattr__(self, attr):\n",
    "    return getattr(self.model, attr)"
   ]
  },
  {
   "cell_type": "markdown",
   "id": "b80c52bd",
   "metadata": {},
   "source": [
    "__Training Model__"
   ]
  },
  {
   "cell_type": "code",
   "execution_count": 32,
   "id": "513ee7bc",
   "metadata": {},
   "outputs": [],
   "source": [
    "def train_model(model_type='catboost', task='regression', params=default_params, dataset=None, target='target', verbose=100, early_stop=500):\n",
    "  model = get_model(model_type, task, params)\n",
    "  \n",
    "  X = dataset.drop(columns=[target])\n",
    "  y = dataset[target]\n",
    "  X_train, X_valid, y_train, y_valid = train_test_split(X, y, test_size=0.2)\n",
    "  \n",
    "  cat_cols = X.select_dtypes(include=['category', 'object']).columns.tolist()\n",
    "  \n",
    "  if model_type == 'catboost':\n",
    "    train_pool = Pool(X_train, y_train, cat_features=cat_cols)\n",
    "    valid_pool = Pool(X_valid, y_valid, cat_features=cat_cols)\n",
    "    \n",
    "    model.fit(train_pool, eval_set=[train_pool, valid_pool], use_best_model=True, verbose=verbose, early_stopping_rounds=early_stop)\n",
    "    \n",
    "  elif model_type == 'lightgbm':\n",
    "    model.fit(X_train, y_train,\n",
    "        eval_set=[(X_train, y_train), (X_valid, y_valid)],\n",
    "        callbacks=[\n",
    "\t\t      lgb.early_stopping(stopping_rounds=early_stop),\n",
    "\t\t      lgb.log_evaluation(period=verbose)\n",
    "\t      ])\n",
    "  \n",
    "  model = ModelWrapper(model, model_type, task, X_valid, y_valid)\n",
    "  return model"
   ]
  },
  {
   "cell_type": "code",
   "execution_count": 33,
   "id": "53ce1978",
   "metadata": {},
   "outputs": [
    {
     "name": "stderr",
     "output_type": "stream",
     "text": [
      "/home/mashrur/anaconda3/envs/my_env/lib/python3.12/site-packages/lightgbm/engine.py:204: UserWarning: Found `num_iterations` in params. Will use it instead of argument\n",
      "  _log_warning(f\"Found `{alias}` in params. Will use it instead of argument\")\n"
     ]
    },
    {
     "name": "stdout",
     "output_type": "stream",
     "text": [
      "Training until validation scores don't improve for 1000 rounds\n",
      "[100]\ttraining's rmse: 0.768102\tvalid_1's rmse: 0.786397\n",
      "[200]\ttraining's rmse: 0.638532\tvalid_1's rmse: 0.652577\n",
      "[300]\ttraining's rmse: 0.576595\tvalid_1's rmse: 0.590377\n",
      "[400]\ttraining's rmse: 0.537867\tvalid_1's rmse: 0.552249\n",
      "[500]\ttraining's rmse: 0.517474\tvalid_1's rmse: 0.532775\n",
      "[600]\ttraining's rmse: 0.502465\tvalid_1's rmse: 0.519764\n",
      "[700]\ttraining's rmse: 0.492522\tvalid_1's rmse: 0.511498\n",
      "[800]\ttraining's rmse: 0.483499\tvalid_1's rmse: 0.504518\n",
      "[900]\ttraining's rmse: 0.476271\tvalid_1's rmse: 0.499565\n",
      "[1000]\ttraining's rmse: 0.469575\tvalid_1's rmse: 0.495326\n",
      "Did not meet early stopping. Best iteration is:\n",
      "[1000]\ttraining's rmse: 0.469575\tvalid_1's rmse: 0.495326\n"
     ]
    }
   ],
   "source": [
    "model = train_model(model_type='lightgbm', task='regression', dataset=df, early_stop=1000, target='target', params={\n",
    "\t'iterations': 1000,\n",
    "\t'learning_rate': 1e-2,\n",
    "\t'loss_function': 'RMSE',\n",
    "\t'device': 'CPU',\n",
    "\t'depth': 4,\n",
    "})"
   ]
  },
  {
   "cell_type": "code",
   "execution_count": 34,
   "id": "ee76d5ae",
   "metadata": {},
   "outputs": [
    {
     "data": {
      "image/png": "[encoded data removed]",
      "text/plain": [
       "<Figure size 1000x600 with 1 Axes>"
      ]
     },
     "metadata": {},
     "output_type": "display_data"
    }
   ],
   "source": [
    "model.plot_importance()"
   ]
  },
  {
   "cell_type": "code",
   "execution_count": 35,
   "id": "edcee77f",
   "metadata": {},
   "outputs": [
    {
     "data": {
      "text/plain": [
       "array([4.27068135, 3.88838186, 4.14659996, ..., 0.78112146, 0.8573314 ,\n",
       "       0.97145726])"
      ]
     },
     "execution_count": 35,
     "metadata": {},
     "output_type": "execute_result"
    }
   ],
   "source": [
    "model.predict(df.drop(columns=['target']))"
   ]
  },
  {
   "cell_type": "code",
   "execution_count": null,
   "id": "f6278b52",
   "metadata": {},
   "outputs": [],
   "source": []
  }
 ],
 "metadata": {
  "kernelspec": {
   "display_name": "my_env",
   "language": "python",
   "name": "python3"
  },
  "language_info": {
   "codemirror_mode": {
    "name": "ipython",
    "version": 3
   },
   "file_extension": ".py",
   "mimetype": "text/x-python",
   "name": "python",
   "nbconvert_exporter": "python",
   "pygments_lexer": "ipython3",
   "version": "3.12.4"
  }
 },
 "nbformat": 4,
 "nbformat_minor": 5
}
