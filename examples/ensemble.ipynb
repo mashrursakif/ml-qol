{
 "cells": [
  {
   "cell_type": "markdown",
   "id": "494fcfbe",
   "metadata": {},
   "source": [
    "For the following examples we'll use `sklearn` california housing dataset\n"
   ]
  },
  {
   "cell_type": "code",
   "execution_count": 1,
   "id": "3d412226",
   "metadata": {},
   "outputs": [
    {
     "data": {
      "text/html": [
       "<div>\n",
       "<style scoped>\n",
       "    .dataframe tbody tr th:only-of-type {\n",
       "        vertical-align: middle;\n",
       "    }\n",
       "\n",
       "    .dataframe tbody tr th {\n",
       "        vertical-align: top;\n",
       "    }\n",
       "\n",
       "    .dataframe thead th {\n",
       "        text-align: right;\n",
       "    }\n",
       "</style>\n",
       "<table border=\"1\" class=\"dataframe\">\n",
       "  <thead>\n",
       "    <tr style=\"text-align: right;\">\n",
       "      <th></th>\n",
       "      <th>MedInc</th>\n",
       "      <th>HouseAge</th>\n",
       "      <th>AveRooms</th>\n",
       "      <th>AveBedrms</th>\n",
       "      <th>Population</th>\n",
       "      <th>AveOccup</th>\n",
       "      <th>Latitude</th>\n",
       "      <th>Longitude</th>\n",
       "      <th>MedHouseVal</th>\n",
       "    </tr>\n",
       "  </thead>\n",
       "  <tbody>\n",
       "    <tr>\n",
       "      <th>0</th>\n",
       "      <td>8.3252</td>\n",
       "      <td>41.0</td>\n",
       "      <td>6.984127</td>\n",
       "      <td>1.023810</td>\n",
       "      <td>322.0</td>\n",
       "      <td>2.555556</td>\n",
       "      <td>37.88</td>\n",
       "      <td>-122.23</td>\n",
       "      <td>4.526</td>\n",
       "    </tr>\n",
       "    <tr>\n",
       "      <th>1</th>\n",
       "      <td>8.3014</td>\n",
       "      <td>21.0</td>\n",
       "      <td>6.238137</td>\n",
       "      <td>0.971880</td>\n",
       "      <td>2401.0</td>\n",
       "      <td>2.109842</td>\n",
       "      <td>37.86</td>\n",
       "      <td>-122.22</td>\n",
       "      <td>3.585</td>\n",
       "    </tr>\n",
       "    <tr>\n",
       "      <th>2</th>\n",
       "      <td>7.2574</td>\n",
       "      <td>52.0</td>\n",
       "      <td>8.288136</td>\n",
       "      <td>1.073446</td>\n",
       "      <td>496.0</td>\n",
       "      <td>2.802260</td>\n",
       "      <td>37.85</td>\n",
       "      <td>-122.24</td>\n",
       "      <td>3.521</td>\n",
       "    </tr>\n",
       "    <tr>\n",
       "      <th>3</th>\n",
       "      <td>5.6431</td>\n",
       "      <td>52.0</td>\n",
       "      <td>5.817352</td>\n",
       "      <td>1.073059</td>\n",
       "      <td>558.0</td>\n",
       "      <td>2.547945</td>\n",
       "      <td>37.85</td>\n",
       "      <td>-122.25</td>\n",
       "      <td>3.413</td>\n",
       "    </tr>\n",
       "    <tr>\n",
       "      <th>4</th>\n",
       "      <td>3.8462</td>\n",
       "      <td>52.0</td>\n",
       "      <td>6.281853</td>\n",
       "      <td>1.081081</td>\n",
       "      <td>565.0</td>\n",
       "      <td>2.181467</td>\n",
       "      <td>37.85</td>\n",
       "      <td>-122.25</td>\n",
       "      <td>3.422</td>\n",
       "    </tr>\n",
       "    <tr>\n",
       "      <th>...</th>\n",
       "      <td>...</td>\n",
       "      <td>...</td>\n",
       "      <td>...</td>\n",
       "      <td>...</td>\n",
       "      <td>...</td>\n",
       "      <td>...</td>\n",
       "      <td>...</td>\n",
       "      <td>...</td>\n",
       "      <td>...</td>\n",
       "    </tr>\n",
       "    <tr>\n",
       "      <th>20635</th>\n",
       "      <td>1.5603</td>\n",
       "      <td>25.0</td>\n",
       "      <td>5.045455</td>\n",
       "      <td>1.133333</td>\n",
       "      <td>845.0</td>\n",
       "      <td>2.560606</td>\n",
       "      <td>39.48</td>\n",
       "      <td>-121.09</td>\n",
       "      <td>0.781</td>\n",
       "    </tr>\n",
       "    <tr>\n",
       "      <th>20636</th>\n",
       "      <td>2.5568</td>\n",
       "      <td>18.0</td>\n",
       "      <td>6.114035</td>\n",
       "      <td>1.315789</td>\n",
       "      <td>356.0</td>\n",
       "      <td>3.122807</td>\n",
       "      <td>39.49</td>\n",
       "      <td>-121.21</td>\n",
       "      <td>0.771</td>\n",
       "    </tr>\n",
       "    <tr>\n",
       "      <th>20637</th>\n",
       "      <td>1.7000</td>\n",
       "      <td>17.0</td>\n",
       "      <td>5.205543</td>\n",
       "      <td>1.120092</td>\n",
       "      <td>1007.0</td>\n",
       "      <td>2.325635</td>\n",
       "      <td>39.43</td>\n",
       "      <td>-121.22</td>\n",
       "      <td>0.923</td>\n",
       "    </tr>\n",
       "    <tr>\n",
       "      <th>20638</th>\n",
       "      <td>1.8672</td>\n",
       "      <td>18.0</td>\n",
       "      <td>5.329513</td>\n",
       "      <td>1.171920</td>\n",
       "      <td>741.0</td>\n",
       "      <td>2.123209</td>\n",
       "      <td>39.43</td>\n",
       "      <td>-121.32</td>\n",
       "      <td>0.847</td>\n",
       "    </tr>\n",
       "    <tr>\n",
       "      <th>20639</th>\n",
       "      <td>2.3886</td>\n",
       "      <td>16.0</td>\n",
       "      <td>5.254717</td>\n",
       "      <td>1.162264</td>\n",
       "      <td>1387.0</td>\n",
       "      <td>2.616981</td>\n",
       "      <td>39.37</td>\n",
       "      <td>-121.24</td>\n",
       "      <td>0.894</td>\n",
       "    </tr>\n",
       "  </tbody>\n",
       "</table>\n",
       "<p>20640 rows × 9 columns</p>\n",
       "</div>"
      ],
      "text/plain": [
       "       MedInc  HouseAge  AveRooms  AveBedrms  Population  AveOccup  Latitude  \\\n",
       "0      8.3252      41.0  6.984127   1.023810       322.0  2.555556     37.88   \n",
       "1      8.3014      21.0  6.238137   0.971880      2401.0  2.109842     37.86   \n",
       "2      7.2574      52.0  8.288136   1.073446       496.0  2.802260     37.85   \n",
       "3      5.6431      52.0  5.817352   1.073059       558.0  2.547945     37.85   \n",
       "4      3.8462      52.0  6.281853   1.081081       565.0  2.181467     37.85   \n",
       "...       ...       ...       ...        ...         ...       ...       ...   \n",
       "20635  1.5603      25.0  5.045455   1.133333       845.0  2.560606     39.48   \n",
       "20636  2.5568      18.0  6.114035   1.315789       356.0  3.122807     39.49   \n",
       "20637  1.7000      17.0  5.205543   1.120092      1007.0  2.325635     39.43   \n",
       "20638  1.8672      18.0  5.329513   1.171920       741.0  2.123209     39.43   \n",
       "20639  2.3886      16.0  5.254717   1.162264      1387.0  2.616981     39.37   \n",
       "\n",
       "       Longitude  MedHouseVal  \n",
       "0        -122.23        4.526  \n",
       "1        -122.22        3.585  \n",
       "2        -122.24        3.521  \n",
       "3        -122.25        3.413  \n",
       "4        -122.25        3.422  \n",
       "...          ...          ...  \n",
       "20635    -121.09        0.781  \n",
       "20636    -121.21        0.771  \n",
       "20637    -121.22        0.923  \n",
       "20638    -121.32        0.847  \n",
       "20639    -121.24        0.894  \n",
       "\n",
       "[20640 rows x 9 columns]"
      ]
     },
     "execution_count": 1,
     "metadata": {},
     "output_type": "execute_result"
    }
   ],
   "source": [
    "from sklearn.datasets import fetch_california_housing\n",
    "\n",
    "housing = fetch_california_housing(as_frame=True)\n",
    "df = housing.frame\n",
    "df"
   ]
  },
  {
   "cell_type": "code",
   "execution_count": 3,
   "id": "bd4489c9",
   "metadata": {},
   "outputs": [],
   "source": [
    "from sklearn.model_selection import train_test_split\n",
    "\n",
    "train_df, test_df = train_test_split(df, test_size=0.2)"
   ]
  },
  {
   "cell_type": "markdown",
   "id": "e7c10bb8",
   "metadata": {},
   "source": [
    "## fold_train\n",
    "\n",
    "Split data using Kfold and train models using cross-validation. Uses KFold for regression tasks and StratifiedKFold for classification tasks. Returns List of trained models.\n"
   ]
  },
  {
   "cell_type": "code",
   "execution_count": 8,
   "id": "bfe9023c",
   "metadata": {},
   "outputs": [
    {
     "name": "stdout",
     "output_type": "stream",
     "text": [
      "Fold \n",
      "Training until validation scores don't improve for 500 rounds\n"
     ]
    },
    {
     "name": "stderr",
     "output_type": "stream",
     "text": [
      "/home/mashrur/anaconda3/envs/my_env/lib/python3.12/site-packages/lightgbm/engine.py:204: UserWarning: Found `num_iterations` in params. Will use it instead of argument\n",
      "  _log_warning(f\"Found `{alias}` in params. Will use it instead of argument\")\n"
     ]
    },
    {
     "name": "stdout",
     "output_type": "stream",
     "text": [
      "[100]\ttraining's l1: 0.672997\tvalid_1's l1: 0.678746\n",
      "[200]\ttraining's l1: 0.584289\tvalid_1's l1: 0.588444\n",
      "[300]\ttraining's l1: 0.52357\tvalid_1's l1: 0.528043\n",
      "[400]\ttraining's l1: 0.486015\tvalid_1's l1: 0.49134\n",
      "[500]\ttraining's l1: 0.456554\tvalid_1's l1: 0.462282\n",
      "[600]\ttraining's l1: 0.437047\tvalid_1's l1: 0.443281\n",
      "[700]\ttraining's l1: 0.424501\tvalid_1's l1: 0.431399\n",
      "[800]\ttraining's l1: 0.413642\tvalid_1's l1: 0.420925\n",
      "Did not meet early stopping. Best iteration is:\n",
      "[800]\ttraining's l1: 0.413642\tvalid_1's l1: 0.420925\n",
      "\n",
      "Validation mse score: 0.3511182547265784\n",
      "Fold \n",
      "Training until validation scores don't improve for 500 rounds\n"
     ]
    },
    {
     "name": "stderr",
     "output_type": "stream",
     "text": [
      "/home/mashrur/anaconda3/envs/my_env/lib/python3.12/site-packages/lightgbm/engine.py:204: UserWarning: Found `num_iterations` in params. Will use it instead of argument\n",
      "  _log_warning(f\"Found `{alias}` in params. Will use it instead of argument\")\n"
     ]
    },
    {
     "name": "stdout",
     "output_type": "stream",
     "text": [
      "[100]\ttraining's l1: 0.676602\tvalid_1's l1: 0.666797\n",
      "[200]\ttraining's l1: 0.587326\tvalid_1's l1: 0.579561\n",
      "[300]\ttraining's l1: 0.527449\tvalid_1's l1: 0.518256\n",
      "[400]\ttraining's l1: 0.490098\tvalid_1's l1: 0.480813\n",
      "[500]\ttraining's l1: 0.458508\tvalid_1's l1: 0.448013\n",
      "[600]\ttraining's l1: 0.43889\tvalid_1's l1: 0.428491\n",
      "[700]\ttraining's l1: 0.425931\tvalid_1's l1: 0.415564\n",
      "[800]\ttraining's l1: 0.416632\tvalid_1's l1: 0.406679\n",
      "Did not meet early stopping. Best iteration is:\n",
      "[800]\ttraining's l1: 0.416632\tvalid_1's l1: 0.406679\n",
      "\n",
      "Validation mse score: 0.32598028776432264\n",
      "Fold \n",
      "Training until validation scores don't improve for 500 rounds\n"
     ]
    },
    {
     "name": "stderr",
     "output_type": "stream",
     "text": [
      "/home/mashrur/anaconda3/envs/my_env/lib/python3.12/site-packages/lightgbm/engine.py:204: UserWarning: Found `num_iterations` in params. Will use it instead of argument\n",
      "  _log_warning(f\"Found `{alias}` in params. Will use it instead of argument\")\n"
     ]
    },
    {
     "name": "stdout",
     "output_type": "stream",
     "text": [
      "[100]\ttraining's l1: 0.670354\tvalid_1's l1: 0.683064\n",
      "[200]\ttraining's l1: 0.581053\tvalid_1's l1: 0.596209\n",
      "[300]\ttraining's l1: 0.520515\tvalid_1's l1: 0.535889\n",
      "[400]\ttraining's l1: 0.483566\tvalid_1's l1: 0.498868\n",
      "[500]\ttraining's l1: 0.453156\tvalid_1's l1: 0.468824\n",
      "[600]\ttraining's l1: 0.433682\tvalid_1's l1: 0.449423\n",
      "[700]\ttraining's l1: 0.421524\tvalid_1's l1: 0.436952\n",
      "[800]\ttraining's l1: 0.41179\tvalid_1's l1: 0.427125\n",
      "Did not meet early stopping. Best iteration is:\n",
      "[800]\ttraining's l1: 0.41179\tvalid_1's l1: 0.427125\n",
      "\n",
      "Validation mse score: 0.3628535062224218\n",
      "Fold \n"
     ]
    },
    {
     "name": "stderr",
     "output_type": "stream",
     "text": [
      "/home/mashrur/anaconda3/envs/my_env/lib/python3.12/site-packages/lightgbm/engine.py:204: UserWarning: Found `num_iterations` in params. Will use it instead of argument\n",
      "  _log_warning(f\"Found `{alias}` in params. Will use it instead of argument\")\n"
     ]
    },
    {
     "name": "stdout",
     "output_type": "stream",
     "text": [
      "Training until validation scores don't improve for 500 rounds\n",
      "[100]\ttraining's l1: 0.6758\tvalid_1's l1: 0.661552\n",
      "[200]\ttraining's l1: 0.585931\tvalid_1's l1: 0.577723\n",
      "[300]\ttraining's l1: 0.525666\tvalid_1's l1: 0.520106\n",
      "[400]\ttraining's l1: 0.488014\tvalid_1's l1: 0.483969\n",
      "[500]\ttraining's l1: 0.455755\tvalid_1's l1: 0.45318\n",
      "[600]\ttraining's l1: 0.435689\tvalid_1's l1: 0.433795\n",
      "[700]\ttraining's l1: 0.423786\tvalid_1's l1: 0.42263\n",
      "[800]\ttraining's l1: 0.414811\tvalid_1's l1: 0.414494\n",
      "Did not meet early stopping. Best iteration is:\n",
      "[800]\ttraining's l1: 0.414811\tvalid_1's l1: 0.414494\n",
      "\n",
      "Validation mse score: 0.33939312604837846\n",
      "Fold \n",
      "Training until validation scores don't improve for 500 rounds\n",
      "[100]\ttraining's l1: 0.670694\tvalid_1's l1: 0.686993\n"
     ]
    },
    {
     "name": "stderr",
     "output_type": "stream",
     "text": [
      "/home/mashrur/anaconda3/envs/my_env/lib/python3.12/site-packages/lightgbm/engine.py:204: UserWarning: Found `num_iterations` in params. Will use it instead of argument\n",
      "  _log_warning(f\"Found `{alias}` in params. Will use it instead of argument\")\n"
     ]
    },
    {
     "name": "stdout",
     "output_type": "stream",
     "text": [
      "[200]\ttraining's l1: 0.58226\tvalid_1's l1: 0.596817\n",
      "[300]\ttraining's l1: 0.52089\tvalid_1's l1: 0.537093\n",
      "[400]\ttraining's l1: 0.483897\tvalid_1's l1: 0.500279\n",
      "[500]\ttraining's l1: 0.455187\tvalid_1's l1: 0.472423\n",
      "[600]\ttraining's l1: 0.432417\tvalid_1's l1: 0.451166\n",
      "[700]\ttraining's l1: 0.419614\tvalid_1's l1: 0.438855\n",
      "[800]\ttraining's l1: 0.40998\tvalid_1's l1: 0.429666\n",
      "Did not meet early stopping. Best iteration is:\n",
      "[800]\ttraining's l1: 0.40998\tvalid_1's l1: 0.429666\n",
      "\n",
      "Validation mse score: 0.3638008527648179\n",
      "\n",
      "Mean validation score: 0.34862920550530385\n"
     ]
    }
   ],
   "source": [
    "from ml_qol import fold_train\n",
    "\n",
    "lgb_models = fold_train(\n",
    "    model_type=\"lightgbm\",\n",
    "    task=\"regression\",\n",
    "    params={\n",
    "        \"iterations\": 800,\n",
    "        \"learning_rate\": 1e-2,\n",
    "        \"loss_function\": \"RMSE\",\n",
    "        \"depth\": 2,\n",
    "        \"metric\": \"MAE\",\n",
    "    },\n",
    "    data=train_df,\n",
    "    target_col=\"MedHouseVal\",\n",
    "    n_splits=5,\n",
    ")"
   ]
  },
  {
   "cell_type": "code",
   "execution_count": 7,
   "id": "522b470c",
   "metadata": {},
   "outputs": [
    {
     "name": "stdout",
     "output_type": "stream",
     "text": [
      "Fold \n",
      "0:\tlearn: 0.9062746\ttest: 0.9062746\ttest1: 0.9210785\tbest: 0.9210785 (0)\ttotal: 68.1ms\tremaining: 54.4s\n",
      "100:\tlearn: 0.6884942\ttest: 0.6884942\ttest1: 0.6934857\tbest: 0.6934857 (100)\ttotal: 292ms\tremaining: 2.02s\n",
      "200:\tlearn: 0.6048796\ttest: 0.6048796\ttest1: 0.6064947\tbest: 0.6064947 (200)\ttotal: 544ms\tremaining: 1.62s\n",
      "300:\tlearn: 0.5518335\ttest: 0.5518335\ttest1: 0.5525376\tbest: 0.5525376 (300)\ttotal: 802ms\tremaining: 1.33s\n",
      "400:\tlearn: 0.5162364\ttest: 0.5162364\ttest1: 0.5171875\tbest: 0.5171875 (400)\ttotal: 1.08s\tremaining: 1.07s\n",
      "500:\tlearn: 0.4901473\ttest: 0.4901473\ttest1: 0.4920071\tbest: 0.4920071 (500)\ttotal: 1.27s\tremaining: 758ms\n",
      "600:\tlearn: 0.4717363\ttest: 0.4717363\ttest1: 0.4747867\tbest: 0.4747867 (600)\ttotal: 1.54s\tremaining: 511ms\n",
      "700:\tlearn: 0.4574238\ttest: 0.4574238\ttest1: 0.4607660\tbest: 0.4607660 (700)\ttotal: 1.79s\tremaining: 253ms\n",
      "799:\tlearn: 0.4454668\ttest: 0.4454668\ttest1: 0.4492614\tbest: 0.4492614 (799)\ttotal: 2.03s\tremaining: 0us\n",
      "\n",
      "bestTest = 0.449261383\n",
      "bestIteration = 799\n",
      "\n",
      "\n",
      "Validation mse score: 0.3852600437843821\n",
      "Fold \n",
      "0:\tlearn: 0.9129365\ttest: 0.9129365\ttest1: 0.9000555\tbest: 0.9000555 (0)\ttotal: 3.53ms\tremaining: 2.82s\n",
      "100:\tlearn: 0.6929368\ttest: 0.6929368\ttest1: 0.6824059\tbest: 0.6824059 (100)\ttotal: 228ms\tremaining: 1.58s\n",
      "200:\tlearn: 0.6080902\ttest: 0.6080902\ttest1: 0.5973906\tbest: 0.5973906 (200)\ttotal: 438ms\tremaining: 1.31s\n",
      "300:\tlearn: 0.5556140\ttest: 0.5556140\ttest1: 0.5443683\tbest: 0.5443683 (300)\ttotal: 697ms\tremaining: 1.16s\n",
      "400:\tlearn: 0.5200129\ttest: 0.5200129\ttest1: 0.5077854\tbest: 0.5077854 (400)\ttotal: 935ms\tremaining: 930ms\n",
      "500:\tlearn: 0.4938136\ttest: 0.4938136\ttest1: 0.4806350\tbest: 0.4806350 (500)\ttotal: 1.2s\tremaining: 719ms\n",
      "600:\tlearn: 0.4752343\ttest: 0.4752343\ttest1: 0.4616390\tbest: 0.4616390 (600)\ttotal: 1.46s\tremaining: 483ms\n",
      "700:\tlearn: 0.4613603\ttest: 0.4613603\ttest1: 0.4476293\tbest: 0.4476293 (700)\ttotal: 1.71s\tremaining: 241ms\n",
      "799:\tlearn: 0.4494306\ttest: 0.4494306\ttest1: 0.4357033\tbest: 0.4357033 (799)\ttotal: 1.97s\tremaining: 0us\n",
      "\n",
      "bestTest = 0.4357032835\n",
      "bestIteration = 799\n",
      "\n",
      "\n",
      "Validation mse score: 0.3591399875091124\n",
      "Fold \n",
      "0:\tlearn: 0.9064892\ttest: 0.9064892\ttest1: 0.9172479\tbest: 0.9172479 (0)\ttotal: 3.25ms\tremaining: 2.6s\n",
      "100:\tlearn: 0.6871259\ttest: 0.6871259\ttest1: 0.6988544\tbest: 0.6988544 (100)\ttotal: 244ms\tremaining: 1.69s\n",
      "200:\tlearn: 0.6029038\ttest: 0.6029038\ttest1: 0.6160249\tbest: 0.6160249 (200)\ttotal: 429ms\tremaining: 1.28s\n",
      "300:\tlearn: 0.5510719\ttest: 0.5510719\ttest1: 0.5636821\tbest: 0.5636821 (300)\ttotal: 653ms\tremaining: 1.08s\n",
      "400:\tlearn: 0.5144569\ttest: 0.5144569\ttest1: 0.5270931\tbest: 0.5270931 (400)\ttotal: 893ms\tremaining: 889ms\n",
      "500:\tlearn: 0.4881132\ttest: 0.4881132\ttest1: 0.5005391\tbest: 0.5005391 (500)\ttotal: 1.12s\tremaining: 671ms\n",
      "600:\tlearn: 0.4694799\ttest: 0.4694799\ttest1: 0.4811173\tbest: 0.4811173 (600)\ttotal: 1.38s\tremaining: 456ms\n",
      "700:\tlearn: 0.4557517\ttest: 0.4557517\ttest1: 0.4673644\tbest: 0.4673644 (700)\ttotal: 1.61s\tremaining: 228ms\n",
      "799:\tlearn: 0.4433451\ttest: 0.4433451\ttest1: 0.4552767\tbest: 0.4552767 (799)\ttotal: 1.86s\tremaining: 0us\n",
      "\n",
      "bestTest = 0.4552767226\n",
      "bestIteration = 799\n",
      "\n",
      "\n",
      "Validation mse score: 0.39956999108332214\n",
      "Fold \n",
      "0:\tlearn: 0.9150375\ttest: 0.9150375\ttest1: 0.8867920\tbest: 0.8867920 (0)\ttotal: 3.34ms\tremaining: 2.67s\n",
      "100:\tlearn: 0.6920543\ttest: 0.6920543\ttest1: 0.6747153\tbest: 0.6747153 (100)\ttotal: 225ms\tremaining: 1.56s\n",
      "200:\tlearn: 0.6068206\ttest: 0.6068206\ttest1: 0.5947078\tbest: 0.5947078 (200)\ttotal: 477ms\tremaining: 1.42s\n",
      "300:\tlearn: 0.5554012\ttest: 0.5554012\ttest1: 0.5453447\tbest: 0.5453447 (300)\ttotal: 729ms\tremaining: 1.21s\n",
      "400:\tlearn: 0.5192340\ttest: 0.5192340\ttest1: 0.5108034\tbest: 0.5108034 (400)\ttotal: 1s\tremaining: 1s\n",
      "500:\tlearn: 0.4923078\ttest: 0.4923078\ttest1: 0.4858164\tbest: 0.4858164 (500)\ttotal: 1.23s\tremaining: 736ms\n",
      "600:\tlearn: 0.4736926\ttest: 0.4736926\ttest1: 0.4687995\tbest: 0.4687995 (600)\ttotal: 1.43s\tremaining: 473ms\n",
      "700:\tlearn: 0.4587656\ttest: 0.4587656\ttest1: 0.4549111\tbest: 0.4549111 (700)\ttotal: 1.53s\tremaining: 216ms\n",
      "799:\tlearn: 0.4468244\ttest: 0.4468244\ttest1: 0.4433303\tbest: 0.4433303 (799)\ttotal: 1.69s\tremaining: 0us\n",
      "\n",
      "bestTest = 0.4433303203\n",
      "bestIteration = 799\n",
      "\n",
      "\n",
      "Validation mse score: 0.37164503553159567\n",
      "Fold \n",
      "0:\tlearn: 0.9066037\ttest: 0.9066037\ttest1: 0.9222014\tbest: 0.9222014 (0)\ttotal: 3.38ms\tremaining: 2.7s\n",
      "100:\tlearn: 0.6859698\ttest: 0.6859698\ttest1: 0.7018132\tbest: 0.7018132 (100)\ttotal: 231ms\tremaining: 1.6s\n",
      "200:\tlearn: 0.6011976\ttest: 0.6011976\ttest1: 0.6168954\tbest: 0.6168954 (200)\ttotal: 396ms\tremaining: 1.18s\n",
      "300:\tlearn: 0.5487686\ttest: 0.5487686\ttest1: 0.5652042\tbest: 0.5652042 (300)\ttotal: 620ms\tremaining: 1.03s\n",
      "400:\tlearn: 0.5120740\ttest: 0.5120740\ttest1: 0.5284728\tbest: 0.5284728 (400)\ttotal: 844ms\tremaining: 840ms\n",
      "500:\tlearn: 0.4866567\ttest: 0.4866567\ttest1: 0.5033295\tbest: 0.5033295 (500)\ttotal: 974ms\tremaining: 581ms\n",
      "600:\tlearn: 0.4687841\ttest: 0.4687841\ttest1: 0.4855195\tbest: 0.4855195 (600)\ttotal: 1.04s\tremaining: 345ms\n",
      "700:\tlearn: 0.4545431\ttest: 0.4545431\ttest1: 0.4715037\tbest: 0.4715037 (700)\ttotal: 1.1s\tremaining: 156ms\n",
      "799:\tlearn: 0.4424201\ttest: 0.4424201\ttest1: 0.4593687\tbest: 0.4593687 (799)\ttotal: 1.16s\tremaining: 0us\n",
      "\n",
      "bestTest = 0.4593687283\n",
      "bestIteration = 799\n",
      "\n",
      "\n",
      "Validation mse score: 0.39998216669354925\n",
      "\n",
      "Mean validation score: 0.38311944492039235\n"
     ]
    }
   ],
   "source": [
    "cb_models = fold_train(\n",
    "    model_type=\"catboost\",\n",
    "    task=\"regression\",\n",
    "    params={\n",
    "        \"iterations\": 800,\n",
    "        \"learning_rate\": 1e-2,\n",
    "        \"loss_function\": \"RMSE\",\n",
    "        \"depth\": 2,\n",
    "        \"metric\": \"MAE\",\n",
    "    },\n",
    "    data=train_df,\n",
    "    target_col=\"MedHouseVal\",\n",
    "    n_splits=5,\n",
    ")"
   ]
  },
  {
   "cell_type": "markdown",
   "id": "3f046618",
   "metadata": {},
   "source": [
    "#### `fold_train` parameters\n",
    "\n",
    "- **model_type**: Currently supports `catboost`, `lightgbm`, and `xgboost`. Defaults to `catboost`\n",
    "- **task**: 'regression' or 'classification'. Defaults to 'regression\n",
    "- **params**: dict of hyper-parameters for training. Default params: {\n",
    "  'iterations': 1000,\n",
    "  'learning_rate': 0.01,\n",
    "  'loss_function': 'RMSE',\n",
    "  'device': 'CPU'\n",
    "  }\n",
    "- **data**: Training data as a pandas.DataFrame.\n",
    "- **target_col**: Name of target column in data\n",
    "- **n_splits**: Number of splits to perform with KFold\n",
    "- **metric**: Indicates how to calculate final validation score. Supported values: \"mse\", \"mae\", \"accuracy\", \"f1\"\n",
    "- **verbose**: Controls frequency of evaluation logs. Defaults to 100\n",
    "- **early_stop**: Number of iterations after which training will stop if no improvement is found in validation score. Defaults to 500\n",
    "- **random_state**: Seed used to control the randomness in model training and data splitting. Defaults to 42 for reproducible results. Pass `None` to achieve non-deterministic behavior.\n"
   ]
  },
  {
   "cell_type": "markdown",
   "id": "2fecc9ec",
   "metadata": {},
   "source": [
    "## get_fold_preds\n",
    "\n",
    "Outputs averaged predictions from a list of models\n"
   ]
  },
  {
   "cell_type": "code",
   "execution_count": null,
   "id": "6605fa41",
   "metadata": {},
   "outputs": [
    {
     "data": {
      "text/plain": [
       "array([1.26517062, 1.4071246 , 1.88837253, ..., 1.7273395 , 1.55077599,\n",
       "       3.2716706 ])"
      ]
     },
     "execution_count": 12,
     "metadata": {},
     "output_type": "execute_result"
    }
   ],
   "source": [
    "from ml_qol import get_fold_preds\n",
    "from sklearn.metrics import mean_absolute_error\n",
    "\n",
    "X_test = test_df.drop(columns=\"MedHouseVal\")\n",
    "\n",
    "lgb_preds = get_fold_preds(models=lgb_models, test_df=X_test)\n",
    "lgb_preds"
   ]
  },
  {
   "cell_type": "code",
   "execution_count": null,
   "id": "dbf99a9b",
   "metadata": {},
   "outputs": [
    {
     "data": {
      "text/plain": [
       "0.43427109845185424"
      ]
     },
     "execution_count": 13,
     "metadata": {},
     "output_type": "execute_result"
    }
   ],
   "source": [
    "mean_absolute_error(test_df[\"MedHouseVal\"], lgb_preds)"
   ]
  },
  {
   "cell_type": "code",
   "execution_count": 14,
   "id": "5090f36b",
   "metadata": {},
   "outputs": [
    {
     "data": {
      "text/plain": [
       "0.4622639587849313"
      ]
     },
     "execution_count": 14,
     "metadata": {},
     "output_type": "execute_result"
    }
   ],
   "source": [
    "cb_preds = get_fold_preds(models=cb_models, test_df=X_test)\n",
    "mean_absolute_error(test_df[\"MedHouseVal\"], cb_preds)"
   ]
  },
  {
   "cell_type": "markdown",
   "id": "490f906a",
   "metadata": {},
   "source": [
    "#### `get_fold_preds` parameters\n",
    "\n",
    "- **models**: List of trained models\n",
    "- **test_df**: Inference dataset for generating predictions\n"
   ]
  },
  {
   "cell_type": "markdown",
   "id": "1818c015",
   "metadata": {},
   "source": [
    "## get_ensemble_preds\n",
    "\n",
    "Takes list of predictions from different models, and performs weighted average to create single ensembled prediction\n"
   ]
  },
  {
   "cell_type": "code",
   "execution_count": 20,
   "id": "483210f6",
   "metadata": {},
   "outputs": [
    {
     "data": {
      "text/plain": [
       "array([1.28410673, 1.37965751, 1.9073016 , ..., 1.73696613, 1.57259953,\n",
       "       3.24506535])"
      ]
     },
     "execution_count": 20,
     "metadata": {},
     "output_type": "execute_result"
    }
   ],
   "source": [
    "from ml_qol import get_ensemble_preds\n",
    "\n",
    "ensemble_preds = get_ensemble_preds(\n",
    "    preds_list=[lgb_preds, cb_preds], weights=[0.7, 0.3]\n",
    ")\n",
    "ensemble_preds"
   ]
  },
  {
   "cell_type": "markdown",
   "id": "31a1e6d9",
   "metadata": {},
   "source": [
    "#### `get_ensemble` parameters\n",
    "\n",
    "- **preds_list**: List of predictions from various models.\n",
    "- **weights**: List of weights used to calculate average predictions. Default is None, which weighs all predictions equally.\n"
   ]
  },
  {
   "cell_type": "markdown",
   "id": "ce21da8c",
   "metadata": {},
   "source": []
  }
 ],
 "metadata": {
  "kernelspec": {
   "display_name": "my_env",
   "language": "python",
   "name": "python3"
  },
  "language_info": {
   "codemirror_mode": {
    "name": "ipython",
    "version": 3
   },
   "file_extension": ".py",
   "mimetype": "text/x-python",
   "name": "python",
   "nbconvert_exporter": "python",
   "pygments_lexer": "ipython3",
   "version": "3.12.4"
  }
 },
 "nbformat": 4,
 "nbformat_minor": 5
}
