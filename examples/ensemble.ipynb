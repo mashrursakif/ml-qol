{
 "cells": [
  {
   "cell_type": "markdown",
   "id": "494fcfbe",
   "metadata": {},
   "source": [
    "For the following examples we'll use `sklearn` california housing dataset\n"
   ]
  },
  {
   "cell_type": "code",
   "execution_count": 1,
   "id": "3d412226",
   "metadata": {},
   "outputs": [
    {
     "data": {
      "text/html": [
       "<div>\n",
       "<style scoped>\n",
       "    .dataframe tbody tr th:only-of-type {\n",
       "        vertical-align: middle;\n",
       "    }\n",
       "\n",
       "    .dataframe tbody tr th {\n",
       "        vertical-align: top;\n",
       "    }\n",
       "\n",
       "    .dataframe thead th {\n",
       "        text-align: right;\n",
       "    }\n",
       "</style>\n",
       "<table border=\"1\" class=\"dataframe\">\n",
       "  <thead>\n",
       "    <tr style=\"text-align: right;\">\n",
       "      <th></th>\n",
       "      <th>MedInc</th>\n",
       "      <th>HouseAge</th>\n",
       "      <th>AveRooms</th>\n",
       "      <th>AveBedrms</th>\n",
       "      <th>Population</th>\n",
       "      <th>AveOccup</th>\n",
       "      <th>Latitude</th>\n",
       "      <th>Longitude</th>\n",
       "      <th>MedHouseVal</th>\n",
       "    </tr>\n",
       "  </thead>\n",
       "  <tbody>\n",
       "    <tr>\n",
       "      <th>0</th>\n",
       "      <td>8.3252</td>\n",
       "      <td>41.0</td>\n",
       "      <td>6.984127</td>\n",
       "      <td>1.023810</td>\n",
       "      <td>322.0</td>\n",
       "      <td>2.555556</td>\n",
       "      <td>37.88</td>\n",
       "      <td>-122.23</td>\n",
       "      <td>4.526</td>\n",
       "    </tr>\n",
       "    <tr>\n",
       "      <th>1</th>\n",
       "      <td>8.3014</td>\n",
       "      <td>21.0</td>\n",
       "      <td>6.238137</td>\n",
       "      <td>0.971880</td>\n",
       "      <td>2401.0</td>\n",
       "      <td>2.109842</td>\n",
       "      <td>37.86</td>\n",
       "      <td>-122.22</td>\n",
       "      <td>3.585</td>\n",
       "    </tr>\n",
       "    <tr>\n",
       "      <th>2</th>\n",
       "      <td>7.2574</td>\n",
       "      <td>52.0</td>\n",
       "      <td>8.288136</td>\n",
       "      <td>1.073446</td>\n",
       "      <td>496.0</td>\n",
       "      <td>2.802260</td>\n",
       "      <td>37.85</td>\n",
       "      <td>-122.24</td>\n",
       "      <td>3.521</td>\n",
       "    </tr>\n",
       "    <tr>\n",
       "      <th>3</th>\n",
       "      <td>5.6431</td>\n",
       "      <td>52.0</td>\n",
       "      <td>5.817352</td>\n",
       "      <td>1.073059</td>\n",
       "      <td>558.0</td>\n",
       "      <td>2.547945</td>\n",
       "      <td>37.85</td>\n",
       "      <td>-122.25</td>\n",
       "      <td>3.413</td>\n",
       "    </tr>\n",
       "    <tr>\n",
       "      <th>4</th>\n",
       "      <td>3.8462</td>\n",
       "      <td>52.0</td>\n",
       "      <td>6.281853</td>\n",
       "      <td>1.081081</td>\n",
       "      <td>565.0</td>\n",
       "      <td>2.181467</td>\n",
       "      <td>37.85</td>\n",
       "      <td>-122.25</td>\n",
       "      <td>3.422</td>\n",
       "    </tr>\n",
       "    <tr>\n",
       "      <th>...</th>\n",
       "      <td>...</td>\n",
       "      <td>...</td>\n",
       "      <td>...</td>\n",
       "      <td>...</td>\n",
       "      <td>...</td>\n",
       "      <td>...</td>\n",
       "      <td>...</td>\n",
       "      <td>...</td>\n",
       "      <td>...</td>\n",
       "    </tr>\n",
       "    <tr>\n",
       "      <th>20635</th>\n",
       "      <td>1.5603</td>\n",
       "      <td>25.0</td>\n",
       "      <td>5.045455</td>\n",
       "      <td>1.133333</td>\n",
       "      <td>845.0</td>\n",
       "      <td>2.560606</td>\n",
       "      <td>39.48</td>\n",
       "      <td>-121.09</td>\n",
       "      <td>0.781</td>\n",
       "    </tr>\n",
       "    <tr>\n",
       "      <th>20636</th>\n",
       "      <td>2.5568</td>\n",
       "      <td>18.0</td>\n",
       "      <td>6.114035</td>\n",
       "      <td>1.315789</td>\n",
       "      <td>356.0</td>\n",
       "      <td>3.122807</td>\n",
       "      <td>39.49</td>\n",
       "      <td>-121.21</td>\n",
       "      <td>0.771</td>\n",
       "    </tr>\n",
       "    <tr>\n",
       "      <th>20637</th>\n",
       "      <td>1.7000</td>\n",
       "      <td>17.0</td>\n",
       "      <td>5.205543</td>\n",
       "      <td>1.120092</td>\n",
       "      <td>1007.0</td>\n",
       "      <td>2.325635</td>\n",
       "      <td>39.43</td>\n",
       "      <td>-121.22</td>\n",
       "      <td>0.923</td>\n",
       "    </tr>\n",
       "    <tr>\n",
       "      <th>20638</th>\n",
       "      <td>1.8672</td>\n",
       "      <td>18.0</td>\n",
       "      <td>5.329513</td>\n",
       "      <td>1.171920</td>\n",
       "      <td>741.0</td>\n",
       "      <td>2.123209</td>\n",
       "      <td>39.43</td>\n",
       "      <td>-121.32</td>\n",
       "      <td>0.847</td>\n",
       "    </tr>\n",
       "    <tr>\n",
       "      <th>20639</th>\n",
       "      <td>2.3886</td>\n",
       "      <td>16.0</td>\n",
       "      <td>5.254717</td>\n",
       "      <td>1.162264</td>\n",
       "      <td>1387.0</td>\n",
       "      <td>2.616981</td>\n",
       "      <td>39.37</td>\n",
       "      <td>-121.24</td>\n",
       "      <td>0.894</td>\n",
       "    </tr>\n",
       "  </tbody>\n",
       "</table>\n",
       "<p>20640 rows × 9 columns</p>\n",
       "</div>"
      ],
      "text/plain": [
       "       MedInc  HouseAge  AveRooms  AveBedrms  Population  AveOccup  Latitude  \\\n",
       "0      8.3252      41.0  6.984127   1.023810       322.0  2.555556     37.88   \n",
       "1      8.3014      21.0  6.238137   0.971880      2401.0  2.109842     37.86   \n",
       "2      7.2574      52.0  8.288136   1.073446       496.0  2.802260     37.85   \n",
       "3      5.6431      52.0  5.817352   1.073059       558.0  2.547945     37.85   \n",
       "4      3.8462      52.0  6.281853   1.081081       565.0  2.181467     37.85   \n",
       "...       ...       ...       ...        ...         ...       ...       ...   \n",
       "20635  1.5603      25.0  5.045455   1.133333       845.0  2.560606     39.48   \n",
       "20636  2.5568      18.0  6.114035   1.315789       356.0  3.122807     39.49   \n",
       "20637  1.7000      17.0  5.205543   1.120092      1007.0  2.325635     39.43   \n",
       "20638  1.8672      18.0  5.329513   1.171920       741.0  2.123209     39.43   \n",
       "20639  2.3886      16.0  5.254717   1.162264      1387.0  2.616981     39.37   \n",
       "\n",
       "       Longitude  MedHouseVal  \n",
       "0        -122.23        4.526  \n",
       "1        -122.22        3.585  \n",
       "2        -122.24        3.521  \n",
       "3        -122.25        3.413  \n",
       "4        -122.25        3.422  \n",
       "...          ...          ...  \n",
       "20635    -121.09        0.781  \n",
       "20636    -121.21        0.771  \n",
       "20637    -121.22        0.923  \n",
       "20638    -121.32        0.847  \n",
       "20639    -121.24        0.894  \n",
       "\n",
       "[20640 rows x 9 columns]"
      ]
     },
     "execution_count": 1,
     "metadata": {},
     "output_type": "execute_result"
    }
   ],
   "source": [
    "from sklearn.datasets import fetch_california_housing\n",
    "\n",
    "housing = fetch_california_housing(as_frame=True)\n",
    "df = housing.frame\n",
    "df"
   ]
  },
  {
   "cell_type": "code",
   "execution_count": 2,
   "id": "bd4489c9",
   "metadata": {},
   "outputs": [],
   "source": [
    "from sklearn.model_selection import train_test_split\n",
    "\n",
    "train_df, test_df = train_test_split(df, test_size=0.2)"
   ]
  },
  {
   "cell_type": "markdown",
   "id": "e7c10bb8",
   "metadata": {},
   "source": [
    "## fold_train\n",
    "\n",
    "Split data using Kfold and train models using cross-validation. Uses KFold for regression tasks and StratifiedKFold for classification tasks. Returns List of trained models.\n"
   ]
  },
  {
   "cell_type": "code",
   "execution_count": 3,
   "id": "bfe9023c",
   "metadata": {},
   "outputs": [
    {
     "name": "stdout",
     "output_type": "stream",
     "text": [
      "Running Fold: 1\n",
      "Training until validation scores don't improve for 500 rounds\n"
     ]
    },
    {
     "name": "stderr",
     "output_type": "stream",
     "text": [
      "/home/mashrur/anaconda3/envs/my_env/lib/python3.12/site-packages/lightgbm/engine.py:204: UserWarning: Found `num_iterations` in params. Will use it instead of argument\n",
      "  _log_warning(f\"Found `{alias}` in params. Will use it instead of argument\")\n"
     ]
    },
    {
     "name": "stdout",
     "output_type": "stream",
     "text": [
      "[100]\ttraining's l1: 0.674142\tvalid_1's l1: 0.668539\n",
      "[200]\ttraining's l1: 0.586044\tvalid_1's l1: 0.584105\n",
      "[300]\ttraining's l1: 0.52613\tvalid_1's l1: 0.52601\n",
      "[400]\ttraining's l1: 0.489205\tvalid_1's l1: 0.490072\n",
      "[500]\ttraining's l1: 0.45812\tvalid_1's l1: 0.459927\n",
      "[600]\ttraining's l1: 0.43817\tvalid_1's l1: 0.441042\n",
      "[700]\ttraining's l1: 0.424538\tvalid_1's l1: 0.428429\n",
      "[800]\ttraining's l1: 0.415846\tvalid_1's l1: 0.420873\n",
      "Did not meet early stopping. Best iteration is:\n",
      "[800]\ttraining's l1: 0.415846\tvalid_1's l1: 0.420873\n",
      "\n",
      "Validation mse score: 0.3566053227669459\n",
      "Running Fold: 2\n",
      "Training until validation scores don't improve for 500 rounds\n"
     ]
    },
    {
     "name": "stderr",
     "output_type": "stream",
     "text": [
      "/home/mashrur/anaconda3/envs/my_env/lib/python3.12/site-packages/lightgbm/engine.py:204: UserWarning: Found `num_iterations` in params. Will use it instead of argument\n",
      "  _log_warning(f\"Found `{alias}` in params. Will use it instead of argument\")\n"
     ]
    },
    {
     "name": "stdout",
     "output_type": "stream",
     "text": [
      "[100]\ttraining's l1: 0.672634\tvalid_1's l1: 0.674826\n",
      "[200]\ttraining's l1: 0.58565\tvalid_1's l1: 0.589433\n",
      "[300]\ttraining's l1: 0.52589\tvalid_1's l1: 0.532421\n",
      "[400]\ttraining's l1: 0.488832\tvalid_1's l1: 0.496605\n",
      "[500]\ttraining's l1: 0.45989\tvalid_1's l1: 0.468478\n",
      "[600]\ttraining's l1: 0.438953\tvalid_1's l1: 0.44872\n",
      "[700]\ttraining's l1: 0.426858\tvalid_1's l1: 0.437063\n",
      "[800]\ttraining's l1: 0.415194\tvalid_1's l1: 0.425563\n",
      "Did not meet early stopping. Best iteration is:\n",
      "[800]\ttraining's l1: 0.415194\tvalid_1's l1: 0.425563\n",
      "\n",
      "Validation mse score: 0.3622104013404486\n",
      "Running Fold: 3\n",
      "Training until validation scores don't improve for 500 rounds\n"
     ]
    },
    {
     "name": "stderr",
     "output_type": "stream",
     "text": [
      "/home/mashrur/anaconda3/envs/my_env/lib/python3.12/site-packages/lightgbm/engine.py:204: UserWarning: Found `num_iterations` in params. Will use it instead of argument\n",
      "  _log_warning(f\"Found `{alias}` in params. Will use it instead of argument\")\n"
     ]
    },
    {
     "name": "stdout",
     "output_type": "stream",
     "text": [
      "[100]\ttraining's l1: 0.67848\tvalid_1's l1: 0.653298\n",
      "[200]\ttraining's l1: 0.591192\tvalid_1's l1: 0.568254\n",
      "[300]\ttraining's l1: 0.530675\tvalid_1's l1: 0.509478\n",
      "[400]\ttraining's l1: 0.493889\tvalid_1's l1: 0.476\n",
      "[500]\ttraining's l1: 0.462657\tvalid_1's l1: 0.447665\n",
      "[600]\ttraining's l1: 0.441545\tvalid_1's l1: 0.429358\n",
      "[700]\ttraining's l1: 0.427501\tvalid_1's l1: 0.417823\n",
      "[800]\ttraining's l1: 0.418181\tvalid_1's l1: 0.410597\n",
      "Did not meet early stopping. Best iteration is:\n",
      "[800]\ttraining's l1: 0.418181\tvalid_1's l1: 0.410597\n",
      "\n",
      "Validation mse score: 0.32800415298987656\n",
      "Running Fold: 4\n",
      "Training until validation scores don't improve for 500 rounds\n"
     ]
    },
    {
     "name": "stderr",
     "output_type": "stream",
     "text": [
      "/home/mashrur/anaconda3/envs/my_env/lib/python3.12/site-packages/lightgbm/engine.py:204: UserWarning: Found `num_iterations` in params. Will use it instead of argument\n",
      "  _log_warning(f\"Found `{alias}` in params. Will use it instead of argument\")\n"
     ]
    },
    {
     "name": "stdout",
     "output_type": "stream",
     "text": [
      "[100]\ttraining's l1: 0.663942\tvalid_1's l1: 0.69604\n",
      "[200]\ttraining's l1: 0.577814\tvalid_1's l1: 0.610008\n",
      "[300]\ttraining's l1: 0.52018\tvalid_1's l1: 0.551574\n",
      "[400]\ttraining's l1: 0.483352\tvalid_1's l1: 0.513899\n",
      "[500]\ttraining's l1: 0.454441\tvalid_1's l1: 0.4837\n",
      "[600]\ttraining's l1: 0.434766\tvalid_1's l1: 0.463498\n",
      "[700]\ttraining's l1: 0.421228\tvalid_1's l1: 0.448891\n",
      "[800]\ttraining's l1: 0.412093\tvalid_1's l1: 0.439006\n",
      "Did not meet early stopping. Best iteration is:\n",
      "[800]\ttraining's l1: 0.412093\tvalid_1's l1: 0.439006\n",
      "\n",
      "Validation mse score: 0.3828028114136488\n",
      "Running Fold: 5\n"
     ]
    },
    {
     "name": "stderr",
     "output_type": "stream",
     "text": [
      "/home/mashrur/anaconda3/envs/my_env/lib/python3.12/site-packages/lightgbm/engine.py:204: UserWarning: Found `num_iterations` in params. Will use it instead of argument\n",
      "  _log_warning(f\"Found `{alias}` in params. Will use it instead of argument\")\n"
     ]
    },
    {
     "name": "stdout",
     "output_type": "stream",
     "text": [
      "Training until validation scores don't improve for 500 rounds\n",
      "[100]\ttraining's l1: 0.671984\tvalid_1's l1: 0.678291\n",
      "[200]\ttraining's l1: 0.585321\tvalid_1's l1: 0.589962\n",
      "[300]\ttraining's l1: 0.526805\tvalid_1's l1: 0.529612\n",
      "[400]\ttraining's l1: 0.490574\tvalid_1's l1: 0.492556\n",
      "[500]\ttraining's l1: 0.46278\tvalid_1's l1: 0.463812\n",
      "[600]\ttraining's l1: 0.442695\tvalid_1's l1: 0.442099\n",
      "[700]\ttraining's l1: 0.428902\tvalid_1's l1: 0.427197\n",
      "[800]\ttraining's l1: 0.418949\tvalid_1's l1: 0.416673\n",
      "Did not meet early stopping. Best iteration is:\n",
      "[800]\ttraining's l1: 0.418949\tvalid_1's l1: 0.416673\n",
      "\n",
      "Validation mse score: 0.3344522589861587\n",
      "\n",
      "Mean validation score: 0.3528149894994157\n"
     ]
    }
   ],
   "source": [
    "from ml_qol import fold_train\n",
    "\n",
    "lgb_models = fold_train(\n",
    "    model_type=\"lightgbm\",\n",
    "    task=\"regression\",\n",
    "    params={\n",
    "        \"iterations\": 800,\n",
    "        \"learning_rate\": 1e-2,\n",
    "        \"loss_function\": \"RMSE\",\n",
    "        \"depth\": 2,\n",
    "        \"metric\": \"MAE\",\n",
    "    },\n",
    "    data=train_df,\n",
    "    target_col=\"MedHouseVal\",\n",
    "    n_splits=5,\n",
    ")"
   ]
  },
  {
   "cell_type": "code",
   "execution_count": 4,
   "id": "522b470c",
   "metadata": {},
   "outputs": [
    {
     "name": "stdout",
     "output_type": "stream",
     "text": [
      "Running Fold: 1\n",
      "0:\tlearn: 0.9044505\ttest: 0.9044505\ttest1: 0.8970182\tbest: 0.8970182 (0)\ttotal: 53.1ms\tremaining: 42.4s\n",
      "100:\tlearn: 0.6893665\ttest: 0.6893665\ttest1: 0.6841205\tbest: 0.6841205 (100)\ttotal: 334ms\tremaining: 2.31s\n",
      "200:\tlearn: 0.6060359\ttest: 0.6060359\ttest1: 0.6044232\tbest: 0.6044232 (200)\ttotal: 603ms\tremaining: 1.79s\n",
      "300:\tlearn: 0.5547067\ttest: 0.5547067\ttest1: 0.5550548\tbest: 0.5550548 (300)\ttotal: 807ms\tremaining: 1.34s\n",
      "400:\tlearn: 0.5188126\ttest: 0.5188126\ttest1: 0.5203847\tbest: 0.5203847 (400)\ttotal: 1.08s\tremaining: 1.07s\n",
      "500:\tlearn: 0.4925459\ttest: 0.4925459\ttest1: 0.4944781\tbest: 0.4944781 (500)\ttotal: 1.27s\tremaining: 761ms\n",
      "600:\tlearn: 0.4741671\ttest: 0.4741671\ttest1: 0.4766608\tbest: 0.4766608 (600)\ttotal: 1.53s\tremaining: 507ms\n",
      "700:\tlearn: 0.4596507\ttest: 0.4596507\ttest1: 0.4628457\tbest: 0.4628457 (700)\ttotal: 1.77s\tremaining: 250ms\n",
      "799:\tlearn: 0.4481242\ttest: 0.4481242\ttest1: 0.4516377\tbest: 0.4516377 (799)\ttotal: 2.03s\tremaining: 0us\n",
      "\n",
      "bestTest = 0.4516377423\n",
      "bestIteration = 799\n",
      "\n",
      "\n",
      "Validation mse score: 0.39423055936784984\n",
      "Running Fold: 2\n",
      "0:\tlearn: 0.9026623\ttest: 0.9026623\ttest1: 0.9004614\tbest: 0.9004614 (0)\ttotal: 3.51ms\tremaining: 2.8s\n",
      "100:\tlearn: 0.6877455\ttest: 0.6877455\ttest1: 0.6871453\tbest: 0.6871453 (100)\ttotal: 271ms\tremaining: 1.88s\n",
      "200:\tlearn: 0.6049153\ttest: 0.6049153\ttest1: 0.6050766\tbest: 0.6050766 (200)\ttotal: 498ms\tremaining: 1.48s\n",
      "300:\tlearn: 0.5532027\ttest: 0.5532027\ttest1: 0.5560831\tbest: 0.5560831 (300)\ttotal: 758ms\tremaining: 1.26s\n",
      "400:\tlearn: 0.5182501\ttest: 0.5182501\ttest1: 0.5226295\tbest: 0.5226295 (400)\ttotal: 1000ms\tremaining: 995ms\n",
      "500:\tlearn: 0.4922327\ttest: 0.4922327\ttest1: 0.4977313\tbest: 0.4977313 (500)\ttotal: 1.17s\tremaining: 697ms\n",
      "600:\tlearn: 0.4737229\ttest: 0.4737229\ttest1: 0.4804199\tbest: 0.4804199 (600)\ttotal: 1.44s\tremaining: 476ms\n",
      "700:\tlearn: 0.4593556\ttest: 0.4593556\ttest1: 0.4669428\tbest: 0.4669428 (700)\ttotal: 1.67s\tremaining: 236ms\n",
      "799:\tlearn: 0.4474375\ttest: 0.4474375\ttest1: 0.4555193\tbest: 0.4555193 (799)\ttotal: 1.9s\tremaining: 0us\n",
      "\n",
      "bestTest = 0.4555193071\n",
      "bestIteration = 799\n",
      "\n",
      "\n",
      "Validation mse score: 0.39859982465585014\n",
      "Running Fold: 3\n",
      "0:\tlearn: 0.9071081\ttest: 0.9071081\ttest1: 0.8866950\tbest: 0.8866950 (0)\ttotal: 3.1ms\tremaining: 2.47s\n",
      "100:\tlearn: 0.6929572\ttest: 0.6929572\ttest1: 0.6672181\tbest: 0.6672181 (100)\ttotal: 280ms\tremaining: 1.94s\n",
      "200:\tlearn: 0.6101669\ttest: 0.6101669\ttest1: 0.5840913\tbest: 0.5840913 (200)\ttotal: 540ms\tremaining: 1.61s\n",
      "300:\tlearn: 0.5595018\ttest: 0.5595018\ttest1: 0.5343021\tbest: 0.5343021 (300)\ttotal: 776ms\tremaining: 1.28s\n",
      "400:\tlearn: 0.5225601\ttest: 0.5225601\ttest1: 0.4989019\tbest: 0.4989019 (400)\ttotal: 938ms\tremaining: 933ms\n",
      "500:\tlearn: 0.4964823\ttest: 0.4964823\ttest1: 0.4749319\tbest: 0.4749319 (500)\ttotal: 1.21s\tremaining: 722ms\n",
      "600:\tlearn: 0.4771852\ttest: 0.4771852\ttest1: 0.4577170\tbest: 0.4577170 (600)\ttotal: 1.47s\tremaining: 488ms\n",
      "700:\tlearn: 0.4627480\ttest: 0.4627480\ttest1: 0.4448729\tbest: 0.4448729 (700)\ttotal: 1.72s\tremaining: 242ms\n",
      "799:\tlearn: 0.4510577\ttest: 0.4510577\ttest1: 0.4346003\tbest: 0.4346003 (799)\ttotal: 1.95s\tremaining: 0us\n",
      "\n",
      "bestTest = 0.4346003491\n",
      "bestIteration = 799\n",
      "\n",
      "\n",
      "Validation mse score: 0.3555625927849057\n",
      "Running Fold: 4\n",
      "0:\tlearn: 0.8948358\ttest: 0.8948358\ttest1: 0.9213120\tbest: 0.9213120 (0)\ttotal: 3.24ms\tremaining: 2.59s\n",
      "100:\tlearn: 0.6795999\ttest: 0.6795999\ttest1: 0.7101745\tbest: 0.7101745 (100)\ttotal: 249ms\tremaining: 1.72s\n",
      "200:\tlearn: 0.5970539\ttest: 0.5970539\ttest1: 0.6276079\tbest: 0.6276079 (200)\ttotal: 519ms\tremaining: 1.54s\n",
      "300:\tlearn: 0.5472075\ttest: 0.5472075\ttest1: 0.5762441\tbest: 0.5762441 (300)\ttotal: 791ms\tremaining: 1.31s\n",
      "400:\tlearn: 0.5122102\ttest: 0.5122102\ttest1: 0.5399849\tbest: 0.5399849 (400)\ttotal: 889ms\tremaining: 885ms\n",
      "500:\tlearn: 0.4865642\ttest: 0.4865642\ttest1: 0.5134628\tbest: 0.5134628 (500)\ttotal: 1.12s\tremaining: 667ms\n",
      "600:\tlearn: 0.4687910\ttest: 0.4687910\ttest1: 0.4946635\tbest: 0.4946635 (600)\ttotal: 1.39s\tremaining: 460ms\n",
      "700:\tlearn: 0.4545949\ttest: 0.4545949\ttest1: 0.4794986\tbest: 0.4794986 (700)\ttotal: 1.65s\tremaining: 233ms\n",
      "799:\tlearn: 0.4417790\ttest: 0.4417790\ttest1: 0.4662362\tbest: 0.4662362 (799)\ttotal: 1.89s\tremaining: 0us\n",
      "\n",
      "bestTest = 0.4662361889\n",
      "bestIteration = 799\n",
      "\n",
      "\n",
      "Validation mse score: 0.4171485278548154\n",
      "Running Fold: 5\n",
      "0:\tlearn: 0.9014530\ttest: 0.9014530\ttest1: 0.9056646\tbest: 0.9056646 (0)\ttotal: 3.35ms\tremaining: 2.68s\n",
      "100:\tlearn: 0.6878041\ttest: 0.6878041\ttest1: 0.6937516\tbest: 0.6937516 (100)\ttotal: 289ms\tremaining: 2s\n",
      "200:\tlearn: 0.6050414\ttest: 0.6050414\ttest1: 0.6091007\tbest: 0.6091007 (200)\ttotal: 587ms\tremaining: 1.75s\n",
      "300:\tlearn: 0.5552881\ttest: 0.5552881\ttest1: 0.5573694\tbest: 0.5573694 (300)\ttotal: 917ms\tremaining: 1.52s\n",
      "400:\tlearn: 0.5200092\ttest: 0.5200092\ttest1: 0.5201695\tbest: 0.5201695 (400)\ttotal: 1.14s\tremaining: 1.13s\n",
      "500:\tlearn: 0.4940800\ttest: 0.4940800\ttest1: 0.4932536\tbest: 0.4932536 (500)\ttotal: 1.41s\tremaining: 842ms\n",
      "600:\tlearn: 0.4767101\ttest: 0.4767101\ttest1: 0.4745628\tbest: 0.4745628 (600)\ttotal: 1.72s\tremaining: 571ms\n",
      "700:\tlearn: 0.4627607\ttest: 0.4627607\ttest1: 0.4591662\tbest: 0.4591662 (700)\ttotal: 2.03s\tremaining: 287ms\n",
      "799:\tlearn: 0.4514079\ttest: 0.4514079\ttest1: 0.4465640\tbest: 0.4465640 (799)\ttotal: 2.28s\tremaining: 0us\n",
      "\n",
      "bestTest = 0.4465640383\n",
      "bestIteration = 799\n",
      "\n",
      "\n",
      "Validation mse score: 0.3709664426437051\n",
      "\n",
      "Mean validation score: 0.38730158946142523\n"
     ]
    }
   ],
   "source": [
    "cb_models = fold_train(\n",
    "    model_type=\"catboost\",\n",
    "    task=\"regression\",\n",
    "    params={\n",
    "        \"iterations\": 800,\n",
    "        \"learning_rate\": 1e-2,\n",
    "        \"loss_function\": \"RMSE\",\n",
    "        \"depth\": 2,\n",
    "        \"metric\": \"MAE\",\n",
    "    },\n",
    "    data=train_df,\n",
    "    target_col=\"MedHouseVal\",\n",
    "    n_splits=5,\n",
    ")"
   ]
  },
  {
   "cell_type": "markdown",
   "id": "3f046618",
   "metadata": {},
   "source": [
    "#### `fold_train` parameters\n",
    "\n",
    "- **model_type**: Currently supports `catboost`, `lightgbm`, and `xgboost`. Defaults to `catboost`\n",
    "- **task**: 'regression' or 'classification'. Defaults to 'regression\n",
    "- **params**: dict of hyper-parameters for training. Default params: {\n",
    "  'iterations': 1000,\n",
    "  'learning_rate': 0.01,\n",
    "  'loss_function': 'RMSE',\n",
    "  'device': 'CPU'\n",
    "  }\n",
    "- **data**: Training data as a pandas.DataFrame.\n",
    "- **target_col**: Name of target column in data\n",
    "- **n_splits**: Number of splits to perform with KFold\n",
    "- **metric**: Indicates how to calculate final validation score. Supported values: \"mse\", \"mae\", \"accuracy\", \"f1\"\n",
    "- **verbose**: Controls frequency of evaluation logs. Defaults to 100\n",
    "- **early_stop**: Number of iterations after which training will stop if no improvement is found in validation score. Defaults to 500\n",
    "- **random_state**: Seed used to control the randomness in model training and data splitting. Defaults to 42 for reproducible results. Pass `None` to achieve non-deterministic behavior.\n"
   ]
  },
  {
   "cell_type": "markdown",
   "id": "2fecc9ec",
   "metadata": {},
   "source": [
    "## get_fold_preds\n",
    "\n",
    "Outputs averaged predictions from a list of models\n"
   ]
  },
  {
   "cell_type": "code",
   "execution_count": 5,
   "id": "6605fa41",
   "metadata": {},
   "outputs": [
    {
     "data": {
      "text/plain": [
       "array([3.20217756, 2.88144391, 2.56642513, ..., 1.74657   , 1.4189248 ,\n",
       "       0.76742656])"
      ]
     },
     "execution_count": 5,
     "metadata": {},
     "output_type": "execute_result"
    }
   ],
   "source": [
    "from ml_qol import get_fold_preds\n",
    "from sklearn.metrics import mean_absolute_error\n",
    "\n",
    "X_test = test_df.drop(columns=\"MedHouseVal\")\n",
    "\n",
    "lgb_preds = get_fold_preds(models=lgb_models, test_df=X_test)\n",
    "lgb_preds"
   ]
  },
  {
   "cell_type": "code",
   "execution_count": 6,
   "id": "dbf99a9b",
   "metadata": {},
   "outputs": [
    {
     "data": {
      "text/plain": [
       "0.4296036277382521"
      ]
     },
     "execution_count": 6,
     "metadata": {},
     "output_type": "execute_result"
    }
   ],
   "source": [
    "mean_absolute_error(test_df[\"MedHouseVal\"], lgb_preds)"
   ]
  },
  {
   "cell_type": "code",
   "execution_count": 7,
   "id": "5090f36b",
   "metadata": {},
   "outputs": [
    {
     "data": {
      "text/plain": [
       "0.46027083720407913"
      ]
     },
     "execution_count": 7,
     "metadata": {},
     "output_type": "execute_result"
    }
   ],
   "source": [
    "cb_preds = get_fold_preds(models=cb_models, test_df=X_test)\n",
    "mean_absolute_error(test_df[\"MedHouseVal\"], cb_preds)"
   ]
  },
  {
   "cell_type": "markdown",
   "id": "490f906a",
   "metadata": {},
   "source": [
    "#### `get_fold_preds` parameters\n",
    "\n",
    "- **models**: List of trained models\n",
    "- **test_df**: Inference dataset for generating predictions\n"
   ]
  },
  {
   "cell_type": "markdown",
   "id": "1818c015",
   "metadata": {},
   "source": [
    "## get_ensemble_preds\n",
    "\n",
    "Takes list of predictions from different models, and performs weighted average to create single ensembled prediction\n"
   ]
  },
  {
   "cell_type": "code",
   "execution_count": 8,
   "id": "483210f6",
   "metadata": {},
   "outputs": [
    {
     "data": {
      "text/plain": [
       "array([3.14995385, 2.9287071 , 2.54459153, ..., 1.76655099, 1.42649875,\n",
       "       0.78752358])"
      ]
     },
     "execution_count": 8,
     "metadata": {},
     "output_type": "execute_result"
    }
   ],
   "source": [
    "from ml_qol import get_ensemble_preds\n",
    "\n",
    "ensemble_preds = get_ensemble_preds(\n",
    "    preds_list=[lgb_preds, cb_preds], weights=[0.7, 0.3]\n",
    ")\n",
    "ensemble_preds"
   ]
  },
  {
   "cell_type": "markdown",
   "id": "31a1e6d9",
   "metadata": {},
   "source": [
    "#### `get_ensemble` parameters\n",
    "\n",
    "- **preds_list**: List of predictions from various models.\n",
    "- **weights**: List of weights used to calculate average predictions. Default is None, which weighs all predictions equally.\n"
   ]
  }
 ],
 "metadata": {
  "kernelspec": {
   "display_name": "my_env",
   "language": "python",
   "name": "python3"
  },
  "language_info": {
   "codemirror_mode": {
    "name": "ipython",
    "version": 3
   },
   "file_extension": ".py",
   "mimetype": "text/x-python",
   "name": "python",
   "nbconvert_exporter": "python",
   "pygments_lexer": "ipython3",
   "version": "3.12.4"
  }
 },
 "nbformat": 4,
 "nbformat_minor": 5
}
