{
 "cells": [
  {
   "cell_type": "markdown",
   "id": "494fcfbe",
   "metadata": {},
   "source": [
    "For the following examples we'll use `sklearn` california housing dataset\n"
   ]
  },
  {
   "cell_type": "code",
   "execution_count": 1,
   "id": "3d412226",
   "metadata": {},
   "outputs": [
    {
     "data": {
      "text/html": [
       "<div>\n",
       "<style scoped>\n",
       "    .dataframe tbody tr th:only-of-type {\n",
       "        vertical-align: middle;\n",
       "    }\n",
       "\n",
       "    .dataframe tbody tr th {\n",
       "        vertical-align: top;\n",
       "    }\n",
       "\n",
       "    .dataframe thead th {\n",
       "        text-align: right;\n",
       "    }\n",
       "</style>\n",
       "<table border=\"1\" class=\"dataframe\">\n",
       "  <thead>\n",
       "    <tr style=\"text-align: right;\">\n",
       "      <th></th>\n",
       "      <th>MedInc</th>\n",
       "      <th>HouseAge</th>\n",
       "      <th>AveRooms</th>\n",
       "      <th>AveBedrms</th>\n",
       "      <th>Population</th>\n",
       "      <th>AveOccup</th>\n",
       "      <th>Latitude</th>\n",
       "      <th>Longitude</th>\n",
       "      <th>MedHouseVal</th>\n",
       "    </tr>\n",
       "  </thead>\n",
       "  <tbody>\n",
       "    <tr>\n",
       "      <th>0</th>\n",
       "      <td>8.3252</td>\n",
       "      <td>41.0</td>\n",
       "      <td>6.984127</td>\n",
       "      <td>1.023810</td>\n",
       "      <td>322.0</td>\n",
       "      <td>2.555556</td>\n",
       "      <td>37.88</td>\n",
       "      <td>-122.23</td>\n",
       "      <td>4.526</td>\n",
       "    </tr>\n",
       "    <tr>\n",
       "      <th>1</th>\n",
       "      <td>8.3014</td>\n",
       "      <td>21.0</td>\n",
       "      <td>6.238137</td>\n",
       "      <td>0.971880</td>\n",
       "      <td>2401.0</td>\n",
       "      <td>2.109842</td>\n",
       "      <td>37.86</td>\n",
       "      <td>-122.22</td>\n",
       "      <td>3.585</td>\n",
       "    </tr>\n",
       "    <tr>\n",
       "      <th>2</th>\n",
       "      <td>7.2574</td>\n",
       "      <td>52.0</td>\n",
       "      <td>8.288136</td>\n",
       "      <td>1.073446</td>\n",
       "      <td>496.0</td>\n",
       "      <td>2.802260</td>\n",
       "      <td>37.85</td>\n",
       "      <td>-122.24</td>\n",
       "      <td>3.521</td>\n",
       "    </tr>\n",
       "    <tr>\n",
       "      <th>3</th>\n",
       "      <td>5.6431</td>\n",
       "      <td>52.0</td>\n",
       "      <td>5.817352</td>\n",
       "      <td>1.073059</td>\n",
       "      <td>558.0</td>\n",
       "      <td>2.547945</td>\n",
       "      <td>37.85</td>\n",
       "      <td>-122.25</td>\n",
       "      <td>3.413</td>\n",
       "    </tr>\n",
       "    <tr>\n",
       "      <th>4</th>\n",
       "      <td>3.8462</td>\n",
       "      <td>52.0</td>\n",
       "      <td>6.281853</td>\n",
       "      <td>1.081081</td>\n",
       "      <td>565.0</td>\n",
       "      <td>2.181467</td>\n",
       "      <td>37.85</td>\n",
       "      <td>-122.25</td>\n",
       "      <td>3.422</td>\n",
       "    </tr>\n",
       "    <tr>\n",
       "      <th>...</th>\n",
       "      <td>...</td>\n",
       "      <td>...</td>\n",
       "      <td>...</td>\n",
       "      <td>...</td>\n",
       "      <td>...</td>\n",
       "      <td>...</td>\n",
       "      <td>...</td>\n",
       "      <td>...</td>\n",
       "      <td>...</td>\n",
       "    </tr>\n",
       "    <tr>\n",
       "      <th>20635</th>\n",
       "      <td>1.5603</td>\n",
       "      <td>25.0</td>\n",
       "      <td>5.045455</td>\n",
       "      <td>1.133333</td>\n",
       "      <td>845.0</td>\n",
       "      <td>2.560606</td>\n",
       "      <td>39.48</td>\n",
       "      <td>-121.09</td>\n",
       "      <td>0.781</td>\n",
       "    </tr>\n",
       "    <tr>\n",
       "      <th>20636</th>\n",
       "      <td>2.5568</td>\n",
       "      <td>18.0</td>\n",
       "      <td>6.114035</td>\n",
       "      <td>1.315789</td>\n",
       "      <td>356.0</td>\n",
       "      <td>3.122807</td>\n",
       "      <td>39.49</td>\n",
       "      <td>-121.21</td>\n",
       "      <td>0.771</td>\n",
       "    </tr>\n",
       "    <tr>\n",
       "      <th>20637</th>\n",
       "      <td>1.7000</td>\n",
       "      <td>17.0</td>\n",
       "      <td>5.205543</td>\n",
       "      <td>1.120092</td>\n",
       "      <td>1007.0</td>\n",
       "      <td>2.325635</td>\n",
       "      <td>39.43</td>\n",
       "      <td>-121.22</td>\n",
       "      <td>0.923</td>\n",
       "    </tr>\n",
       "    <tr>\n",
       "      <th>20638</th>\n",
       "      <td>1.8672</td>\n",
       "      <td>18.0</td>\n",
       "      <td>5.329513</td>\n",
       "      <td>1.171920</td>\n",
       "      <td>741.0</td>\n",
       "      <td>2.123209</td>\n",
       "      <td>39.43</td>\n",
       "      <td>-121.32</td>\n",
       "      <td>0.847</td>\n",
       "    </tr>\n",
       "    <tr>\n",
       "      <th>20639</th>\n",
       "      <td>2.3886</td>\n",
       "      <td>16.0</td>\n",
       "      <td>5.254717</td>\n",
       "      <td>1.162264</td>\n",
       "      <td>1387.0</td>\n",
       "      <td>2.616981</td>\n",
       "      <td>39.37</td>\n",
       "      <td>-121.24</td>\n",
       "      <td>0.894</td>\n",
       "    </tr>\n",
       "  </tbody>\n",
       "</table>\n",
       "<p>20640 rows × 9 columns</p>\n",
       "</div>"
      ],
      "text/plain": [
       "       MedInc  HouseAge  AveRooms  AveBedrms  Population  AveOccup  Latitude  \\\n",
       "0      8.3252      41.0  6.984127   1.023810       322.0  2.555556     37.88   \n",
       "1      8.3014      21.0  6.238137   0.971880      2401.0  2.109842     37.86   \n",
       "2      7.2574      52.0  8.288136   1.073446       496.0  2.802260     37.85   \n",
       "3      5.6431      52.0  5.817352   1.073059       558.0  2.547945     37.85   \n",
       "4      3.8462      52.0  6.281853   1.081081       565.0  2.181467     37.85   \n",
       "...       ...       ...       ...        ...         ...       ...       ...   \n",
       "20635  1.5603      25.0  5.045455   1.133333       845.0  2.560606     39.48   \n",
       "20636  2.5568      18.0  6.114035   1.315789       356.0  3.122807     39.49   \n",
       "20637  1.7000      17.0  5.205543   1.120092      1007.0  2.325635     39.43   \n",
       "20638  1.8672      18.0  5.329513   1.171920       741.0  2.123209     39.43   \n",
       "20639  2.3886      16.0  5.254717   1.162264      1387.0  2.616981     39.37   \n",
       "\n",
       "       Longitude  MedHouseVal  \n",
       "0        -122.23        4.526  \n",
       "1        -122.22        3.585  \n",
       "2        -122.24        3.521  \n",
       "3        -122.25        3.413  \n",
       "4        -122.25        3.422  \n",
       "...          ...          ...  \n",
       "20635    -121.09        0.781  \n",
       "20636    -121.21        0.771  \n",
       "20637    -121.22        0.923  \n",
       "20638    -121.32        0.847  \n",
       "20639    -121.24        0.894  \n",
       "\n",
       "[20640 rows x 9 columns]"
      ]
     },
     "execution_count": 1,
     "metadata": {},
     "output_type": "execute_result"
    }
   ],
   "source": [
    "from sklearn.datasets import fetch_california_housing\n",
    "\n",
    "housing = fetch_california_housing(as_frame=True)\n",
    "df = housing.frame\n",
    "df"
   ]
  },
  {
   "cell_type": "code",
   "execution_count": 2,
   "id": "bd4489c9",
   "metadata": {},
   "outputs": [],
   "source": [
    "from sklearn.model_selection import train_test_split\n",
    "\n",
    "train_df, test_df = train_test_split(df, test_size=0.2)"
   ]
  },
  {
   "cell_type": "markdown",
   "id": "e7c10bb8",
   "metadata": {},
   "source": [
    "## fold_train\n",
    "\n",
    "Split data using Kfold and train models using cross-validation. Uses KFold for regression tasks and StratifiedKFold for classification tasks. Returns List of trained models.\n"
   ]
  },
  {
   "cell_type": "code",
   "execution_count": 3,
   "id": "bfe9023c",
   "metadata": {},
   "outputs": [
    {
     "name": "stdout",
     "output_type": "stream",
     "text": [
      "Running Fold: 1\n",
      "Training until validation scores don't improve for 500 rounds\n"
     ]
    },
    {
     "name": "stderr",
     "output_type": "stream",
     "text": [
      "/home/mashrur/anaconda3/envs/my_env/lib/python3.12/site-packages/lightgbm/engine.py:204: UserWarning: Found `num_iterations` in params. Will use it instead of argument\n",
      "  _log_warning(f\"Found `{alias}` in params. Will use it instead of argument\")\n"
     ]
    },
    {
     "name": "stdout",
     "output_type": "stream",
     "text": [
      "[100]\ttraining's l1: 0.676191\tvalid_1's l1: 0.679831\n",
      "[200]\ttraining's l1: 0.588918\tvalid_1's l1: 0.596189\n",
      "[300]\ttraining's l1: 0.527552\tvalid_1's l1: 0.535111\n",
      "[400]\ttraining's l1: 0.491897\tvalid_1's l1: 0.500029\n",
      "[500]\ttraining's l1: 0.46558\tvalid_1's l1: 0.473279\n",
      "[600]\ttraining's l1: 0.444124\tvalid_1's l1: 0.45122\n",
      "[700]\ttraining's l1: 0.431321\tvalid_1's l1: 0.438139\n",
      "[800]\ttraining's l1: 0.421126\tvalid_1's l1: 0.427398\n",
      "Did not meet early stopping. Best iteration is:\n",
      "[800]\ttraining's l1: 0.421126\tvalid_1's l1: 0.427398\n",
      "\n",
      "Validation mse score: 0.37117123752533593\n",
      "Running Fold: 2\n",
      "Training until validation scores don't improve for 500 rounds\n"
     ]
    },
    {
     "name": "stderr",
     "output_type": "stream",
     "text": [
      "/home/mashrur/anaconda3/envs/my_env/lib/python3.12/site-packages/lightgbm/engine.py:204: UserWarning: Found `num_iterations` in params. Will use it instead of argument\n",
      "  _log_warning(f\"Found `{alias}` in params. Will use it instead of argument\")\n"
     ]
    },
    {
     "name": "stdout",
     "output_type": "stream",
     "text": [
      "[100]\ttraining's l1: 0.676068\tvalid_1's l1: 0.686162\n",
      "[200]\ttraining's l1: 0.58856\tvalid_1's l1: 0.60045\n",
      "[300]\ttraining's l1: 0.529739\tvalid_1's l1: 0.542797\n",
      "[400]\ttraining's l1: 0.493057\tvalid_1's l1: 0.5059\n",
      "[500]\ttraining's l1: 0.466293\tvalid_1's l1: 0.478194\n",
      "[600]\ttraining's l1: 0.446882\tvalid_1's l1: 0.458084\n",
      "[700]\ttraining's l1: 0.433696\tvalid_1's l1: 0.4444\n",
      "[800]\ttraining's l1: 0.423924\tvalid_1's l1: 0.434505\n",
      "Did not meet early stopping. Best iteration is:\n",
      "[800]\ttraining's l1: 0.423924\tvalid_1's l1: 0.434505\n",
      "\n",
      "Validation mse score: 0.35955646088361237\n",
      "Running Fold: 3\n",
      "Training until validation scores don't improve for 500 rounds\n"
     ]
    },
    {
     "name": "stderr",
     "output_type": "stream",
     "text": [
      "/home/mashrur/anaconda3/envs/my_env/lib/python3.12/site-packages/lightgbm/engine.py:204: UserWarning: Found `num_iterations` in params. Will use it instead of argument\n",
      "  _log_warning(f\"Found `{alias}` in params. Will use it instead of argument\")\n"
     ]
    },
    {
     "name": "stdout",
     "output_type": "stream",
     "text": [
      "[100]\ttraining's l1: 0.675547\tvalid_1's l1: 0.680255\n",
      "[200]\ttraining's l1: 0.588743\tvalid_1's l1: 0.594013\n",
      "[300]\ttraining's l1: 0.529173\tvalid_1's l1: 0.535332\n",
      "[400]\ttraining's l1: 0.492099\tvalid_1's l1: 0.498682\n",
      "[500]\ttraining's l1: 0.462691\tvalid_1's l1: 0.469926\n",
      "[600]\ttraining's l1: 0.445093\tvalid_1's l1: 0.452373\n",
      "[700]\ttraining's l1: 0.431992\tvalid_1's l1: 0.439354\n",
      "[800]\ttraining's l1: 0.420403\tvalid_1's l1: 0.427983\n",
      "Did not meet early stopping. Best iteration is:\n",
      "[800]\ttraining's l1: 0.420403\tvalid_1's l1: 0.427983\n",
      "\n",
      "Validation mse score: 0.35285353991926877\n",
      "Running Fold: 4\n",
      "Training until validation scores don't improve for 500 rounds\n"
     ]
    },
    {
     "name": "stderr",
     "output_type": "stream",
     "text": [
      "/home/mashrur/anaconda3/envs/my_env/lib/python3.12/site-packages/lightgbm/engine.py:204: UserWarning: Found `num_iterations` in params. Will use it instead of argument\n",
      "  _log_warning(f\"Found `{alias}` in params. Will use it instead of argument\")\n"
     ]
    },
    {
     "name": "stdout",
     "output_type": "stream",
     "text": [
      "[100]\ttraining's l1: 0.67739\tvalid_1's l1: 0.671166\n",
      "[200]\ttraining's l1: 0.59004\tvalid_1's l1: 0.58601\n",
      "[300]\ttraining's l1: 0.529734\tvalid_1's l1: 0.526129\n",
      "[400]\ttraining's l1: 0.493869\tvalid_1's l1: 0.490634\n",
      "[500]\ttraining's l1: 0.465485\tvalid_1's l1: 0.463826\n",
      "[600]\ttraining's l1: 0.446551\tvalid_1's l1: 0.44652\n",
      "[700]\ttraining's l1: 0.433291\tvalid_1's l1: 0.434154\n",
      "[800]\ttraining's l1: 0.423289\tvalid_1's l1: 0.424845\n",
      "Did not meet early stopping. Best iteration is:\n",
      "[800]\ttraining's l1: 0.423289\tvalid_1's l1: 0.424845\n",
      "\n",
      "Validation mse score: 0.3616534308496843\n",
      "Running Fold: 5\n",
      "Training until validation scores don't improve for 500 rounds\n"
     ]
    },
    {
     "name": "stderr",
     "output_type": "stream",
     "text": [
      "/home/mashrur/anaconda3/envs/my_env/lib/python3.12/site-packages/lightgbm/engine.py:204: UserWarning: Found `num_iterations` in params. Will use it instead of argument\n",
      "  _log_warning(f\"Found `{alias}` in params. Will use it instead of argument\")\n"
     ]
    },
    {
     "name": "stdout",
     "output_type": "stream",
     "text": [
      "[100]\ttraining's l1: 0.676747\tvalid_1's l1: 0.67582\n",
      "[200]\ttraining's l1: 0.589625\tvalid_1's l1: 0.587386\n",
      "[300]\ttraining's l1: 0.529094\tvalid_1's l1: 0.529615\n",
      "[400]\ttraining's l1: 0.492307\tvalid_1's l1: 0.494435\n",
      "[500]\ttraining's l1: 0.465192\tvalid_1's l1: 0.469404\n",
      "[600]\ttraining's l1: 0.446076\tvalid_1's l1: 0.451528\n",
      "[700]\ttraining's l1: 0.43255\tvalid_1's l1: 0.43909\n",
      "[800]\ttraining's l1: 0.420131\tvalid_1's l1: 0.427421\n",
      "Did not meet early stopping. Best iteration is:\n",
      "[800]\ttraining's l1: 0.420131\tvalid_1's l1: 0.427421\n",
      "\n",
      "Validation mse score: 0.35992226884701684\n",
      "\n",
      "Mean validation score: 0.36103138760498366\n"
     ]
    }
   ],
   "source": [
    "from ml_qol import fold_train\n",
    "\n",
    "lgb_models = fold_train(\n",
    "    model_type=\"lightgbm\",\n",
    "    task=\"regression\",\n",
    "    params={\n",
    "        \"iterations\": 800,\n",
    "        \"learning_rate\": 1e-2,\n",
    "        \"loss_function\": \"RMSE\",\n",
    "        \"depth\": 2,\n",
    "        \"metric\": \"MAE\",\n",
    "    },\n",
    "    data=train_df,\n",
    "    target_col=\"MedHouseVal\",\n",
    "    n_splits=5,\n",
    ")"
   ]
  },
  {
   "cell_type": "code",
   "execution_count": 4,
   "id": "522b470c",
   "metadata": {},
   "outputs": [
    {
     "name": "stdout",
     "output_type": "stream",
     "text": [
      "Running Fold: 1\n",
      "0:\tlearn: 0.9109550\ttest: 0.9109550\ttest1: 0.9062780\tbest: 0.9062780 (0)\ttotal: 52.6ms\tremaining: 42.1s\n",
      "100:\tlearn: 0.6922582\ttest: 0.6922582\ttest1: 0.6948952\tbest: 0.6948952 (100)\ttotal: 369ms\tremaining: 2.55s\n",
      "200:\tlearn: 0.6082710\ttest: 0.6082710\ttest1: 0.6150335\tbest: 0.6150335 (200)\ttotal: 620ms\tremaining: 1.85s\n",
      "300:\tlearn: 0.5562799\ttest: 0.5562799\ttest1: 0.5636271\tbest: 0.5636271 (300)\ttotal: 860ms\tremaining: 1.43s\n",
      "400:\tlearn: 0.5211795\ttest: 0.5211795\ttest1: 0.5277817\tbest: 0.5277817 (400)\ttotal: 1.14s\tremaining: 1.13s\n",
      "500:\tlearn: 0.4956273\ttest: 0.4956273\ttest1: 0.5013471\tbest: 0.5013471 (500)\ttotal: 1.38s\tremaining: 826ms\n",
      "600:\tlearn: 0.4775318\ttest: 0.4775318\ttest1: 0.4824162\tbest: 0.4824162 (600)\ttotal: 1.64s\tremaining: 542ms\n",
      "700:\tlearn: 0.4638496\ttest: 0.4638496\ttest1: 0.4685158\tbest: 0.4685158 (700)\ttotal: 1.86s\tremaining: 263ms\n",
      "799:\tlearn: 0.4522098\ttest: 0.4522098\ttest1: 0.4568862\tbest: 0.4568862 (799)\ttotal: 2.09s\tremaining: 0us\n",
      "\n",
      "bestTest = 0.4568861678\n",
      "bestIteration = 799\n",
      "\n",
      "\n",
      "Validation mse score: 0.40793009831712923\n",
      "Running Fold: 2\n",
      "0:\tlearn: 0.9076640\ttest: 0.9076640\ttest1: 0.9181817\tbest: 0.9181817 (0)\ttotal: 4.07ms\tremaining: 3.25s\n",
      "100:\tlearn: 0.6915205\ttest: 0.6915205\ttest1: 0.7007940\tbest: 0.7007940 (100)\ttotal: 196ms\tremaining: 1.36s\n",
      "200:\tlearn: 0.6084192\ttest: 0.6084192\ttest1: 0.6184382\tbest: 0.6184382 (200)\ttotal: 391ms\tremaining: 1.17s\n",
      "300:\tlearn: 0.5565769\ttest: 0.5565769\ttest1: 0.5680913\tbest: 0.5680913 (300)\ttotal: 671ms\tremaining: 1.11s\n",
      "400:\tlearn: 0.5217234\ttest: 0.5217234\ttest1: 0.5331958\tbest: 0.5331958 (400)\ttotal: 893ms\tremaining: 889ms\n",
      "500:\tlearn: 0.4964595\ttest: 0.4964595\ttest1: 0.5070923\tbest: 0.5070923 (500)\ttotal: 1.08s\tremaining: 644ms\n",
      "600:\tlearn: 0.4780758\ttest: 0.4780758\ttest1: 0.4885006\tbest: 0.4885006 (600)\ttotal: 1.21s\tremaining: 402ms\n",
      "700:\tlearn: 0.4639988\ttest: 0.4639988\ttest1: 0.4738326\tbest: 0.4738326 (700)\ttotal: 1.44s\tremaining: 204ms\n",
      "799:\tlearn: 0.4526099\ttest: 0.4526099\ttest1: 0.4618270\tbest: 0.4618270 (799)\ttotal: 1.65s\tremaining: 0us\n",
      "\n",
      "bestTest = 0.4618269552\n",
      "bestIteration = 799\n",
      "\n",
      "\n",
      "Validation mse score: 0.3939035771727476\n",
      "Running Fold: 3\n",
      "0:\tlearn: 0.9060941\ttest: 0.9060941\ttest1: 0.9129514\tbest: 0.9129514 (0)\ttotal: 3.32ms\tremaining: 2.65s\n",
      "100:\tlearn: 0.6910643\ttest: 0.6910643\ttest1: 0.6943243\tbest: 0.6943243 (100)\ttotal: 259ms\tremaining: 1.79s\n",
      "200:\tlearn: 0.6089440\ttest: 0.6089440\ttest1: 0.6107077\tbest: 0.6107077 (200)\ttotal: 517ms\tremaining: 1.54s\n",
      "300:\tlearn: 0.5578337\ttest: 0.5578337\ttest1: 0.5589076\tbest: 0.5589076 (300)\ttotal: 710ms\tremaining: 1.18s\n",
      "400:\tlearn: 0.5225653\ttest: 0.5225653\ttest1: 0.5234278\tbest: 0.5234278 (400)\ttotal: 891ms\tremaining: 886ms\n",
      "500:\tlearn: 0.4970656\ttest: 0.4970656\ttest1: 0.4977553\tbest: 0.4977553 (500)\ttotal: 1.16s\tremaining: 694ms\n",
      "600:\tlearn: 0.4783606\ttest: 0.4783606\ttest1: 0.4789030\tbest: 0.4789030 (600)\ttotal: 1.36s\tremaining: 451ms\n",
      "700:\tlearn: 0.4643470\ttest: 0.4643470\ttest1: 0.4651957\tbest: 0.4651957 (700)\ttotal: 1.57s\tremaining: 222ms\n",
      "799:\tlearn: 0.4525058\ttest: 0.4525058\ttest1: 0.4539088\tbest: 0.4539088 (799)\ttotal: 1.76s\tremaining: 0us\n",
      "\n",
      "bestTest = 0.4539088359\n",
      "bestIteration = 799\n",
      "\n",
      "\n",
      "Validation mse score: 0.38519983211179365\n",
      "Running Fold: 4\n",
      "0:\tlearn: 0.9118836\ttest: 0.9118836\ttest1: 0.8977884\tbest: 0.8977884 (0)\ttotal: 3.05ms\tremaining: 2.43s\n",
      "100:\tlearn: 0.6939190\ttest: 0.6939190\ttest1: 0.6848673\tbest: 0.6848673 (100)\ttotal: 251ms\tremaining: 1.73s\n",
      "200:\tlearn: 0.6103058\ttest: 0.6103058\ttest1: 0.6022534\tbest: 0.6022534 (200)\ttotal: 509ms\tremaining: 1.52s\n",
      "300:\tlearn: 0.5601560\ttest: 0.5601560\ttest1: 0.5532641\tbest: 0.5532641 (300)\ttotal: 745ms\tremaining: 1.24s\n",
      "400:\tlearn: 0.5246023\ttest: 0.5246023\ttest1: 0.5182695\tbest: 0.5182695 (400)\ttotal: 959ms\tremaining: 955ms\n",
      "500:\tlearn: 0.4992495\ttest: 0.4992495\ttest1: 0.4936689\tbest: 0.4936689 (500)\ttotal: 1.16s\tremaining: 693ms\n",
      "600:\tlearn: 0.4803240\ttest: 0.4803240\ttest1: 0.4758761\tbest: 0.4758761 (600)\ttotal: 1.41s\tremaining: 468ms\n",
      "700:\tlearn: 0.4662515\ttest: 0.4662515\ttest1: 0.4625748\tbest: 0.4625748 (700)\ttotal: 1.69s\tremaining: 239ms\n",
      "799:\tlearn: 0.4547469\ttest: 0.4547469\ttest1: 0.4516275\tbest: 0.4516275 (799)\ttotal: 1.87s\tremaining: 0us\n",
      "\n",
      "bestTest = 0.4516275376\n",
      "bestIteration = 799\n",
      "\n",
      "\n",
      "Validation mse score: 0.3957414143154634\n",
      "Running Fold: 5\n",
      "0:\tlearn: 0.9080775\ttest: 0.9080775\ttest1: 0.9099450\tbest: 0.9099450 (0)\ttotal: 4.16ms\tremaining: 3.32s\n",
      "100:\tlearn: 0.6923876\ttest: 0.6923876\ttest1: 0.6892487\tbest: 0.6892487 (100)\ttotal: 264ms\tremaining: 1.83s\n",
      "200:\tlearn: 0.6099000\ttest: 0.6099000\ttest1: 0.6048880\tbest: 0.6048880 (200)\ttotal: 531ms\tremaining: 1.58s\n",
      "300:\tlearn: 0.5589393\ttest: 0.5589393\ttest1: 0.5540066\tbest: 0.5540066 (300)\ttotal: 768ms\tremaining: 1.27s\n",
      "400:\tlearn: 0.5225983\ttest: 0.5225983\ttest1: 0.5200582\tbest: 0.5200582 (400)\ttotal: 1.03s\tremaining: 1.02s\n",
      "500:\tlearn: 0.4964860\ttest: 0.4964860\ttest1: 0.4959396\tbest: 0.4959396 (500)\ttotal: 1.34s\tremaining: 803ms\n",
      "600:\tlearn: 0.4783286\ttest: 0.4783286\ttest1: 0.4786906\tbest: 0.4786906 (600)\ttotal: 1.53s\tremaining: 507ms\n",
      "700:\tlearn: 0.4635905\ttest: 0.4635905\ttest1: 0.4647970\tbest: 0.4647970 (700)\ttotal: 1.75s\tremaining: 247ms\n",
      "799:\tlearn: 0.4514771\ttest: 0.4514771\ttest1: 0.4536013\tbest: 0.4536013 (799)\ttotal: 1.97s\tremaining: 0us\n",
      "\n",
      "bestTest = 0.4536013315\n",
      "bestIteration = 799\n",
      "\n",
      "\n",
      "Validation mse score: 0.39079231944892173\n",
      "\n",
      "Mean validation score: 0.39471344827321114\n"
     ]
    }
   ],
   "source": [
    "cb_models = fold_train(\n",
    "    model_type=\"catboost\",\n",
    "    task=\"regression\",\n",
    "    params={\n",
    "        \"iterations\": 800,\n",
    "        \"learning_rate\": 1e-2,\n",
    "        \"loss_function\": \"RMSE\",\n",
    "        \"depth\": 2,\n",
    "        \"metric\": \"MAE\",\n",
    "    },\n",
    "    data=train_df,\n",
    "    target_col=\"MedHouseVal\",\n",
    "    n_splits=5,\n",
    ")"
   ]
  },
  {
   "cell_type": "markdown",
   "id": "3f046618",
   "metadata": {},
   "source": [
    "#### `fold_train` parameters\n",
    "\n",
    "- **model_type**: Currently supports `catboost`, `lightgbm`, and `xgboost`. Defaults to `catboost`\n",
    "- **task**: 'regression' or 'classification'. Defaults to 'regression\n",
    "- **params**: dict of hyper-parameters for training. Default params: {\n",
    "  'iterations': 1000,\n",
    "  'learning_rate': 0.01,\n",
    "  'loss_function': 'RMSE',\n",
    "  'device': 'CPU'\n",
    "  }\n",
    "- **data**: Training data as a pandas.DataFrame.\n",
    "- **target_col**: Name of target column in data\n",
    "- **n_splits**: Number of splits to perform with KFold\n",
    "- **metric**: Indicates how to calculate final validation score. Supported values: \"mse\", \"mae\", \"accuracy\", \"f1\"\n",
    "- **verbose**: Controls frequency of evaluation logs. Defaults to 100\n",
    "- **early_stop**: Number of iterations after which training will stop if no improvement is found in validation score. Defaults to 500\n",
    "- **random_state**: Seed used to control the randomness in model training and data splitting. Defaults to 42 for reproducible results. Pass `None` to achieve non-deterministic behavior.\n"
   ]
  },
  {
   "cell_type": "markdown",
   "id": "2fecc9ec",
   "metadata": {},
   "source": [
    "## get_fold_preds\n",
    "\n",
    "Outputs averaged predictions from a list of models\n"
   ]
  },
  {
   "cell_type": "code",
   "execution_count": 5,
   "id": "6605fa41",
   "metadata": {},
   "outputs": [
    {
     "data": {
      "text/plain": [
       "array([2.23816343, 1.92668548, 1.33629134, ..., 1.90389427, 3.14148662,\n",
       "       2.89017136])"
      ]
     },
     "execution_count": 5,
     "metadata": {},
     "output_type": "execute_result"
    }
   ],
   "source": [
    "from ml_qol import get_fold_preds\n",
    "from sklearn.metrics import mean_absolute_error\n",
    "\n",
    "X_test = test_df.drop(columns=\"MedHouseVal\")\n",
    "\n",
    "lgb_preds = get_fold_preds(models=lgb_models, test_df=X_test)\n",
    "lgb_preds"
   ]
  },
  {
   "cell_type": "code",
   "execution_count": 6,
   "id": "dbf99a9b",
   "metadata": {},
   "outputs": [
    {
     "data": {
      "text/plain": [
       "0.41537856171473453"
      ]
     },
     "execution_count": 6,
     "metadata": {},
     "output_type": "execute_result"
    }
   ],
   "source": [
    "mean_absolute_error(test_df[\"MedHouseVal\"], lgb_preds)"
   ]
  },
  {
   "cell_type": "code",
   "execution_count": 7,
   "id": "5090f36b",
   "metadata": {},
   "outputs": [
    {
     "data": {
      "text/plain": [
       "0.4434645996091336"
      ]
     },
     "execution_count": 7,
     "metadata": {},
     "output_type": "execute_result"
    }
   ],
   "source": [
    "cb_preds = get_fold_preds(models=cb_models, test_df=X_test)\n",
    "mean_absolute_error(test_df[\"MedHouseVal\"], cb_preds)"
   ]
  },
  {
   "cell_type": "markdown",
   "id": "490f906a",
   "metadata": {},
   "source": [
    "#### `get_fold_preds` parameters\n",
    "\n",
    "- **models**: List of trained models\n",
    "- **test_df**: Inference dataset for generating predictions\n"
   ]
  },
  {
   "cell_type": "markdown",
   "id": "1818c015",
   "metadata": {},
   "source": [
    "## get_ensemble_preds\n",
    "\n",
    "Takes list of predictions from different models, and performs weighted average to create single ensembled prediction\n"
   ]
  },
  {
   "cell_type": "code",
   "execution_count": 8,
   "id": "483210f6",
   "metadata": {},
   "outputs": [
    {
     "data": {
      "text/plain": [
       "array([2.25105386, 1.94135131, 1.35334026, ..., 1.88861195, 3.10551075,\n",
       "       2.88583463])"
      ]
     },
     "execution_count": 8,
     "metadata": {},
     "output_type": "execute_result"
    }
   ],
   "source": [
    "from ml_qol import get_ensemble_preds\n",
    "\n",
    "ensemble_preds = get_ensemble_preds(\n",
    "    preds_list=[lgb_preds, cb_preds], weights=[0.7, 0.3]\n",
    ")\n",
    "ensemble_preds"
   ]
  },
  {
   "cell_type": "markdown",
   "id": "31a1e6d9",
   "metadata": {},
   "source": [
    "#### `get_ensemble` parameters\n",
    "\n",
    "- **preds_list**: List of predictions from various models.\n",
    "- **weights**: List of weights used to calculate average predictions. Default is None, which weighs all predictions equally.\n"
   ]
  },
  {
   "cell_type": "markdown",
   "id": "ce21da8c",
   "metadata": {},
   "source": []
  }
 ],
 "metadata": {
  "kernelspec": {
   "display_name": "my_env",
   "language": "python",
   "name": "python3"
  },
  "language_info": {
   "codemirror_mode": {
    "name": "ipython",
    "version": 3
   },
   "file_extension": ".py",
   "mimetype": "text/x-python",
   "name": "python",
   "nbconvert_exporter": "python",
   "pygments_lexer": "ipython3",
   "version": "3.12.4"
  }
 },
 "nbformat": 4,
 "nbformat_minor": 5
}
